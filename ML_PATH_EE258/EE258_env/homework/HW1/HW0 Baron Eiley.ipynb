{
 "cells": [
  {
   "cell_type": "code",
   "execution_count": 2,
   "id": "42d3152e-cd01-4b70-a419-589b6a8d0db6",
   "metadata": {},
   "outputs": [
    {
     "name": "stdout",
     "output_type": "stream",
     "text": [
      "Hello World!!\n"
     ]
    }
   ],
   "source": [
    "print('Hello World!!')"
   ]
  },
  {
   "cell_type": "code",
   "execution_count": 3,
   "id": "4a99b1af-06e3-4fa1-bd6b-8a2a242f9dcd",
   "metadata": {},
   "outputs": [
    {
     "name": "stdout",
     "output_type": "stream",
     "text": [
      "I am excited to learn Nueral Networks!\n"
     ]
    }
   ],
   "source": [
    "print('I am excited to learn Nueral Networks!')"
   ]
  },
  {
   "cell_type": "code",
   "execution_count": null,
   "id": "6ab94863-b6a0-4c3a-94dc-e6e2f64f5b24",
   "metadata": {},
   "outputs": [],
   "source": []
  }
 ],
 "metadata": {
  "kernelspec": {
   "display_name": "Python 3 (ipykernel)",
   "language": "python",
   "name": "python3"
  },
  "language_info": {
   "codemirror_mode": {
    "name": "ipython",
    "version": 3
   },
   "file_extension": ".py",
   "mimetype": "text/x-python",
   "name": "python",
   "nbconvert_exporter": "python",
   "pygments_lexer": "ipython3",
   "version": "3.11.5"
  }
 },
 "nbformat": 4,
 "nbformat_minor": 5
}
