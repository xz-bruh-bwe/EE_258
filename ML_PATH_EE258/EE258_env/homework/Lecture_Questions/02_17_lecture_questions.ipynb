{
 "cells": [
  {
   "cell_type": "code",
   "execution_count": 2,
   "id": "ee506fcd-7664-4573-acf6-2a3f72341637",
   "metadata": {},
   "outputs": [
    {
     "name": "stdout",
     "output_type": "stream",
     "text": [
      "Original Data:\n",
      " [[1]\n",
      " [2]\n",
      " [3]\n",
      " [4]\n",
      " [5]]\n",
      "After transform (using fit & then transform separately):\n",
      " [[0.  ]\n",
      " [0.25]\n",
      " [0.5 ]\n",
      " [0.75]\n",
      " [1.  ]]\n",
      "After fit_transform:\n",
      " [[0.  ]\n",
      " [0.25]\n",
      " [0.5 ]\n",
      " [0.75]\n",
      " [1.  ]]\n"
     ]
    }
   ],
   "source": [
    "from sklearn.preprocessing import MinMaxScaler\n",
    "import numpy as np\n",
    "\n",
    "# Sample data\n",
    "X = np.array([[1], [2], [3], [4], [5]])\n",
    "\n",
    "# Initialize MinMaxScaler\n",
    "scaler = MinMaxScaler()\n",
    "\n",
    "# Fit only (calculates min and max)\n",
    "scaler.fit(X)\n",
    "\n",
    "# Transform using the fitted values\n",
    "X_transformed = scaler.transform(X)\n",
    "\n",
    "# Fit and transform in one step\n",
    "X_fit_transform = scaler.fit_transform(X)\n",
    "\n",
    "# Print results\n",
    "print(\"Original Data:\\n\", X)\n",
    "print(\"After transform (using fit & then transform separately):\\n\", X_transformed)\n",
    "print(\"After fit_transform:\\n\", X_fit_transform)\n"
   ]
  },
  {
   "cell_type": "code",
   "execution_count": null,
   "id": "f25ec8fd-7e0e-4ce5-9154-e72e85dfdd94",
   "metadata": {},
   "outputs": [],
   "source": [
    "\n"
   ]
  },
  {
   "cell_type": "code",
   "execution_count": null,
   "id": "da04c072-7577-4b36-8b6c-146f71cc291b",
   "metadata": {},
   "outputs": [],
   "source": []
  }
 ],
 "metadata": {
  "kernelspec": {
   "display_name": "Python 3 (ipykernel)",
   "language": "python",
   "name": "python3"
  },
  "language_info": {
   "codemirror_mode": {
    "name": "ipython",
    "version": 3
   },
   "file_extension": ".py",
   "mimetype": "text/x-python",
   "name": "python",
   "nbconvert_exporter": "python",
   "pygments_lexer": "ipython3",
   "version": "3.11.5"
  }
 },
 "nbformat": 4,
 "nbformat_minor": 5
}
