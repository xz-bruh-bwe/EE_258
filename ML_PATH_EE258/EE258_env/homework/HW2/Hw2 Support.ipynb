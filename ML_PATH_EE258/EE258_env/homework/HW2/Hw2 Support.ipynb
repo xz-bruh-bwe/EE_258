{
 "cells": [
  {
   "cell_type": "markdown",
   "id": "5e9de18e-629a-4c43-974e-0eefe76feb24",
   "metadata": {},
   "source": [
    "### Matrix Calculator w^T * x"
   ]
  },
  {
   "cell_type": "code",
   "execution_count": 1,
   "id": "83126adb-8df4-465a-8295-c540279f2a51",
   "metadata": {},
   "outputs": [
    {
     "name": "stdout",
     "output_type": "stream",
     "text": [
      "Enter first 3x1 matrix:\n",
      "Enter a 3x1 matrix row by row:\n"
     ]
    },
    {
     "name": "stdin",
     "output_type": "stream",
     "text": [
      " 1\n",
      " 2\n",
      " 3\n"
     ]
    },
    {
     "name": "stdout",
     "output_type": "stream",
     "text": [
      "Enter second 3x1 matrix:\n",
      "Enter a 3x1 matrix row by row:\n"
     ]
    },
    {
     "name": "stdin",
     "output_type": "stream",
     "text": [
      " 4\n",
      " 3\n",
      " 2\n"
     ]
    },
    {
     "name": "stdout",
     "output_type": "stream",
     "text": [
      "Transpose of first matrix:\n",
      "[[1. 2. 3.]]\n",
      "Result of multiplication:\n",
      "[[16.]]\n"
     ]
    }
   ],
   "source": [
    "import numpy as np\n",
    "\n",
    "def get_matrix():\n",
    "    rows = 3\n",
    "    cols = 1\n",
    "    print(\"Enter a 3x1 matrix row by row:\")\n",
    "    matrix = []\n",
    "    for _ in range(rows):\n",
    "        row = list(map(float, input().split()))\n",
    "        matrix.append(row)\n",
    "    return np.array(matrix)\n",
    "\n",
    "def matrix_transpose(A):\n",
    "    return np.transpose(A)\n",
    "\n",
    "def matrix_multiplication(A, B):\n",
    "    return np.dot(A, B)\n",
    "\n",
    "def main():\n",
    "    print(\"Enter first 3x1 matrix:\")\n",
    "    A = get_matrix()\n",
    "    print(\"Enter second 3x1 matrix:\")\n",
    "    B = get_matrix()\n",
    "    \n",
    "    A_T = matrix_transpose(A)\n",
    "    print(\"Transpose of first matrix:\")\n",
    "    print(A_T)\n",
    "    \n",
    "    if A_T.shape[1] == B.shape[0]:\n",
    "        result = matrix_multiplication(A_T, B)\n",
    "        print(\"Result of multiplication:\")\n",
    "        print(result)\n",
    "    else:\n",
    "        print(\"Error: Transposed matrix cannot be multiplied with the given second matrix.\")\n",
    "\n",
    "if __name__ == \"__main__\":\n",
    "    main()"
   ]
  },
  {
   "cell_type": "markdown",
   "id": "ff4272ff-2ad0-4907-9e7a-e395991bba0a",
   "metadata": {},
   "source": [
    "### Epoch Finder Calculator Finder"
   ]
  },
  {
   "cell_type": "code",
   "execution_count": 2,
   "id": "c02b7081-fa0d-4743-bac1-d3ab6266eba7",
   "metadata": {},
   "outputs": [
    {
     "name": "stdout",
     "output_type": "stream",
     "text": [
      "Iteration | Weights         | x           | w^T*x   | Predicted | Actual | Action\n",
      "--------------------------------------------------------------------------------\n",
      "        0 | [0. 0. 0.] | [ 1  0 -2] |    0.00 |    -1     |   -1   | Correct\n",
      "        1 | [0. 0. 0.] | [ 1  1 -1] |    0.00 |    -1     |   -1   | Correct\n",
      "        2 | [0. 0. 0.] | [1 2 1] |    0.00 |    -1     |   1    | w(3) = w(2) + 2 * 0.5 * x(3)\n",
      "        3 | [1. 2. 1.] | [ 1 -1  0] |   -1.00 |    -1     |   1    | w(4) = w(3) + 2 * 0.5 * x(0)\n",
      "        4 | [2. 1. 1.] | [ 1  0 -2] |    0.00 |    -1     |   -1   | Correct\n",
      "        5 | [2. 1. 1.] | [ 1  1 -1] |    2.00 |     1     |   -1   | w(6) = w(5) - 2 * 0.5 * x(2)\n",
      "        6 | [1. 0. 2.] | [1 2 1] |    3.00 |     1     |   1    | Correct\n",
      "        7 | [1. 0. 2.] | [ 1 -1  0] |    1.00 |     1     |   1    | Correct\n",
      "        8 | [1. 0. 2.] | [ 1  0 -2] |   -3.00 |    -1     |   -1   | Correct\n",
      "        9 | [1. 0. 2.] | [ 1  1 -1] |   -1.00 |    -1     |   -1   | Correct\n",
      "       10 | [1. 0. 2.] | [1 2 1] |    3.00 |     1     |   1    | Correct\n",
      "       11 | [1. 0. 2.] | [ 1 -1  0] |    1.00 |     1     |   1    | Correct\n",
      "\n",
      "Final Weights: [1. 0. 2.]\n"
     ]
    }
   ],
   "source": [
    "import numpy as np\n",
    "\n",
    "def activation_function(v):\n",
    "    return 1 if v > 0 else -1\n",
    "\n",
    "def perceptron_learning_one_sample_per_iteration(\n",
    "    X,\n",
    "    y,\n",
    "    learning_rate=0.5,\n",
    "    max_iterations=10,\n",
    "    start_index=1\n",
    "):\n",
    "    \"\"\"\n",
    "    Perceptron algorithm processing exactly one data sample per iteration,\n",
    "    starting at 'start_index' in the dataset.\n",
    "    Uses branching logic for weight updates (no explicit factor of y_actual).\n",
    "    \"\"\"\n",
    "    num_samples, num_features = X.shape\n",
    "    # Initialize weights to zero\n",
    "    weights = np.zeros(num_features)\n",
    "\n",
    "    print(\"Iteration | Weights         | x           | w^T*x   | Predicted | Actual | Action\")\n",
    "    print(\"-\" * 80)\n",
    "\n",
    "    for iteration in range(max_iterations):\n",
    "        # Keep a copy of the old weights so we can print them first\n",
    "        weight_prev = weights.copy()\n",
    "\n",
    "        # Select index using (start_index + iteration) % num_samples\n",
    "        i = (start_index + iteration) % num_samples\n",
    "        x_i = X[i]\n",
    "        y_actual = y[i]\n",
    "\n",
    "        # Compute w^T x using OLD weights, then predict\n",
    "        v = np.dot(weight_prev, x_i)\n",
    "        y_pred = activation_function(v)\n",
    "\n",
    "        # Decide how to update the weights\n",
    "        action_str = \"Correct\"\n",
    "        weight_new = weight_prev  # by default, no change\n",
    "\n",
    "        if y_pred != y_actual:\n",
    "            if y_pred == -1 and y_actual == 1:\n",
    "                # Predicted -1, should be +1 --> add\n",
    "                weight_new = weight_prev + 2 * learning_rate * x_i\n",
    "                action_str = (\n",
    "                    f\"w({iteration+1}) = w({iteration}) + 2 * {learning_rate} * x({i})\"\n",
    "                )\n",
    "            elif y_pred == 1 and y_actual == -1:\n",
    "                # Predicted +1, should be -1 --> subtract\n",
    "                weight_new = weight_prev - 2 * learning_rate * x_i\n",
    "                action_str = (\n",
    "                    f\"w({iteration+1}) = w({iteration}) - 2 * {learning_rate} * x({i})\"\n",
    "                )\n",
    "\n",
    "        # Print/log using the old weight (weight_prev)\n",
    "        print(\n",
    "            f\"{iteration:9} | {weight_prev} | {x_i} | {v:7.2f} | \"\n",
    "            f\"{y_pred:^9} | {y_actual:^6} | {action_str}\"\n",
    "        )\n",
    "\n",
    "        # Now apply the new weights AFTER printing\n",
    "        weights = weight_new\n",
    "\n",
    "    return weights\n",
    "\n",
    "\n",
    "# ------------------------------------------------------------------------------\n",
    "# Example usage:\n",
    "# ------------------------------------------------------------------------------\n",
    "if __name__ == \"__main__\":\n",
    "    # Example dataset (bias is part of x vector)\n",
    "    X = np.array([\n",
    "        [1, -1,  0],   # x(0)\n",
    "        [1,  0, -2],   # x(1)\n",
    "        [1,  1, -1],   # x(2)\n",
    "        [1,  2,  1]    # x(3)\n",
    "    ])\n",
    "\n",
    "    # Class labels\n",
    "    y = np.array([1, -1, -1, 1])\n",
    "\n",
    "    # Run with a specific start index\n",
    "    start_index = 1\n",
    "    final_weights = perceptron_learning_one_sample_per_iteration(\n",
    "        X, \n",
    "        y, \n",
    "        learning_rate=0.5, \n",
    "        max_iterations=12, \n",
    "        start_index=start_index\n",
    "    )\n",
    "\n",
    "    print(\"\\nFinal Weights:\", final_weights)\n"
   ]
  },
  {
   "cell_type": "code",
   "execution_count": null,
   "id": "4297c123-5c43-4921-abc4-1d8465bf98fe",
   "metadata": {},
   "outputs": [],
   "source": []
  }
 ],
 "metadata": {
  "kernelspec": {
   "display_name": "Python 3 (ipykernel)",
   "language": "python",
   "name": "python3"
  },
  "language_info": {
   "codemirror_mode": {
    "name": "ipython",
    "version": 3
   },
   "file_extension": ".py",
   "mimetype": "text/x-python",
   "name": "python",
   "nbconvert_exporter": "python",
   "pygments_lexer": "ipython3",
   "version": "3.8.18"
  }
 },
 "nbformat": 4,
 "nbformat_minor": 5
}
