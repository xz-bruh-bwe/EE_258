{
 "cells": [
  {
   "cell_type": "markdown",
   "id": "a6bfc78f-e128-4165-ad85-a957859e2259",
   "metadata": {},
   "source": [
    "### Matrix Calucaltor w^T * x"
   ]
  },
  {
   "cell_type": "code",
   "execution_count": 20,
   "id": "dfb5e7a0-64e4-49b7-bd68-f200b8996ab9",
   "metadata": {},
   "outputs": [
    {
     "name": "stdout",
     "output_type": "stream",
     "text": [
      "Enter first 3x1 matrix:\n",
      "Enter a 3x1 matrix row by row:\n"
     ]
    },
    {
     "name": "stdin",
     "output_type": "stream",
     "text": [
      " 0\n",
      " 0\n",
      " 0\n"
     ]
    },
    {
     "name": "stdout",
     "output_type": "stream",
     "text": [
      "Enter second 3x1 matrix:\n",
      "Enter a 3x1 matrix row by row:\n"
     ]
    },
    {
     "name": "stdin",
     "output_type": "stream",
     "text": [
      " 1\n",
      " -1\n",
      " 1\n"
     ]
    },
    {
     "name": "stdout",
     "output_type": "stream",
     "text": [
      "Transpose of first matrix:\n",
      "[[0. 0. 0.]]\n",
      "Result of multiplication:\n",
      "[[0.]]\n"
     ]
    }
   ],
   "source": [
    "import numpy as np\n",
    "\n",
    "def get_matrix():\n",
    "    rows = 3\n",
    "    cols = 1\n",
    "    print(\"Enter a 3x1 matrix row by row:\")\n",
    "    matrix = []\n",
    "    for _ in range(rows):\n",
    "        row = list(map(float, input().split()))\n",
    "        matrix.append(row)\n",
    "    return np.array(matrix)\n",
    "\n",
    "def matrix_transpose(A):\n",
    "    return np.transpose(A)\n",
    "\n",
    "def matrix_multiplication(A, B):\n",
    "    return np.dot(A, B)\n",
    "\n",
    "def main():\n",
    "    print(\"Enter first 3x1 matrix:\")\n",
    "    A = get_matrix()\n",
    "    print(\"Enter second 3x1 matrix:\")\n",
    "    B = get_matrix()\n",
    "    \n",
    "    A_T = matrix_transpose(A)\n",
    "    print(\"Transpose of first matrix:\")\n",
    "    print(A_T)\n",
    "    \n",
    "    if A_T.shape[1] == B.shape[0]:\n",
    "        result = matrix_multiplication(A_T, B)\n",
    "        print(\"Result of multiplication:\")\n",
    "        print(result)\n",
    "    else:\n",
    "        print(\"Error: Transposed matrix cannot be multiplied with the given second matrix.\")\n",
    "\n",
    "if __name__ == \"__main__\":\n",
    "    main()"
   ]
  },
  {
   "cell_type": "code",
   "execution_count": null,
   "id": "d1e15227-db20-438d-98c8-901ece04c56a",
   "metadata": {
    "scrolled": true
   },
   "outputs": [],
   "source": []
  },
  {
   "cell_type": "code",
   "execution_count": 41,
   "id": "1c7a7a2b-e41a-4c0f-b6f6-f67419d1db90",
   "metadata": {},
   "outputs": [
    {
     "name": "stdout",
     "output_type": "stream",
     "text": [
      "Iteration | Weights         | x           | w^T*x   | Predicted | Actual | Action\n",
      "--------------------------------------------------------------------------------\n",
      "        0 | [0. 0. 0.] | [ 1  0 -2] |    0.00 |    -1     |   -1   | Nothing\n",
      "        1 | [0. 0. 0.] | [ 1  1 -1] |    0.00 |    -1     |   -1   | Nothing\n",
      "        2 | [1. 2. 1.] | [1 2 1] |    0.00 |    -1     |   1    | w(3) = w(2) + 2 * 0.5 * 1 * x(3)\n",
      "        3 | [2. 1. 1.] | [ 1 -1  0] |   -1.00 |    -1     |   1    | w(4) = w(3) + 2 * 0.5 * 1 * x(0)\n",
      "        4 | [2. 1. 1.] | [ 1  0 -2] |    0.00 |    -1     |   -1   | Nothing\n",
      "        5 | [3. 2. 0.] | [ 1  1 -1] |    2.00 |     1     |   -1   | w(6) = w(5) - 2 * 0.5 * -1 * x(2)\n",
      "        6 | [3. 2. 0.] | [1 2 1] |    7.00 |     1     |   1    | Nothing\n",
      "        7 | [3. 2. 0.] | [ 1 -1  0] |    1.00 |     1     |   1    | Nothing\n",
      "        8 | [ 4.  2. -2.] | [ 1  0 -2] |    3.00 |     1     |   -1   | w(9) = w(8) - 2 * 0.5 * -1 * x(1)\n",
      "        9 | [ 5.  3. -3.] | [ 1  1 -1] |    8.00 |     1     |   -1   | w(10) = w(9) - 2 * 0.5 * -1 * x(2)\n"
     ]
    }
   ],
   "source": [
    "import numpy as np\n",
    "\n",
    "def activation_function(v):\n",
    "    return 1 if v > 0 else -1\n",
    "\n",
    "def perceptron_learning_one_sample_per_iteration(\n",
    "    X,\n",
    "    y,\n",
    "    learning_rate=0.5,\n",
    "    max_iterations=10,\n",
    "    start_index=1\n",
    "):\n",
    "    \"\"\"\n",
    "    Perceptron algorithm processing exactly one data sample per iteration,\n",
    "    starting at 'start_index' in the dataset.\n",
    "    \"\"\"\n",
    "    num_samples, num_features = X.shape\n",
    "    weights = np.zeros(num_features)  # Initialize weights to zero\n",
    "\n",
    "    print(\"Iteration | Weights         | x           | w^T*x   | Predicted | Actual | Action\")\n",
    "    print(\"-\" * 80)\n",
    "\n",
    "    for iteration in range(max_iterations):\n",
    "        # Pick exactly ONE sample based on (start_index + iteration) % num_samples\n",
    "        i = (start_index + iteration) % num_samples\n",
    "\n",
    "        x_i = X[i]\n",
    "        y_actual = y[i]\n",
    "\n",
    "        v = np.dot(weights, x_i)\n",
    "        print(v)\n",
    "        y_pred = activation_function(v)\n",
    "\n",
    "        action = \"Nothing\"\n",
    "        # Check misclassification\n",
    "        if y_pred != y_actual:\n",
    "            if y_pred == -1 and y_actual == 1:\n",
    "                # Predicted -1, should be +1\n",
    "                weight_update = 2 * learning_rate * y_actual * x_i\n",
    "                weights += weight_update\n",
    "                action = (f\"w({iteration+1}) = w({iteration}) + 2 * {learning_rate} \"\n",
    "                          f\"* {y_actual} * x({i})\")\n",
    "            elif y_pred == 1 and y_actual == -1:\n",
    "                # Predicted +1, should be -1\n",
    "                weight_update = -2 * learning_rate * y_actual * x_i\n",
    "                weights += weight_update\n",
    "                action = (f\"w({iteration+1}) = w({iteration}) - 2 * {learning_rate} \"\n",
    "                          f\"* {y_actual} * x({i})\")\n",
    "\n",
    "        print(f\"{iteration:9} | {weights} | {x_i} | {v:7.2f} | {y_pred:^9} | {y_actual:^6} | {action}\")\n",
    "\n",
    "    return weights\n",
    "\n",
    "# Example dataset (bias is part of x vector)\n",
    "X = np.array([\n",
    "    [1,  -1, 0],  # (x0=1, x1=0, x2=-2)\n",
    "    [1, 0,  -2],  # ...\n",
    "    [1,  1,  -1],\n",
    "    [1,  2,  1]\n",
    "])\n",
    "\n",
    "# Class labels\n",
    "y = np.array([1, -1, -1, 1])\n",
    "\n",
    "# Specify a starting index for the first sample\n",
    "start_index = 1\n",
    "\n",
    "# Run the single-sample-per-iteration perceptron\n",
    "final_weights = perceptron_learning_one_sample_per_iteration(\n",
    "    X, \n",
    "    y, \n",
    "    learning_rate=0.5, \n",
    "    max_iterations=10, \n",
    "    start_index=start_index\n",
    ")\n"
   ]
  },
  {
   "cell_type": "code",
   "execution_count": null,
   "id": "8aa3b4f5-b5a8-4b8e-808e-2e0902f23a49",
   "metadata": {},
   "outputs": [],
   "source": []
  },
  {
   "cell_type": "code",
   "execution_count": null,
   "id": "7faa0807-3e7d-4a7b-85b3-fff603fd7255",
   "metadata": {},
   "outputs": [],
   "source": []
  }
 ],
 "metadata": {
  "kernelspec": {
   "display_name": "Python 3 (ipykernel)",
   "language": "python",
   "name": "python3"
  },
  "language_info": {
   "codemirror_mode": {
    "name": "ipython",
    "version": 3
   },
   "file_extension": ".py",
   "mimetype": "text/x-python",
   "name": "python",
   "nbconvert_exporter": "python",
   "pygments_lexer": "ipython3",
   "version": "3.11.11"
  }
 },
 "nbformat": 4,
 "nbformat_minor": 5
}
