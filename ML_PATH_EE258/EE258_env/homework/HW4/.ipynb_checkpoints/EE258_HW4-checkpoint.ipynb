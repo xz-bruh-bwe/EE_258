{
 "cells": [
  {
   "cell_type": "markdown",
   "metadata": {},
   "source": [
    "### Homework 4"
   ]
  },
  {
   "cell_type": "code",
   "execution_count": 1,
   "metadata": {},
   "outputs": [
    {
     "data": {
      "text/plain": [
       "'C:\\\\Users\\\\Baron\\\\Desktop\\\\EE_258_Repo\\\\EE_258\\\\ML_PATH_EE258\\\\EE258_env\\\\homework\\\\HW4'"
      ]
     },
     "execution_count": 1,
     "metadata": {},
     "output_type": "execute_result"
    }
   ],
   "source": [
    "pwd"
   ]
  },
  {
   "cell_type": "markdown",
   "metadata": {},
   "source": [
    "### Basic Imports from the libraries\n",
    "    Also prints out the version of the library installed in python"
   ]
  },
  {
   "cell_type": "code",
   "execution_count": 2,
   "metadata": {},
   "outputs": [
    {
     "name": "stderr",
     "output_type": "stream",
     "text": [
      "C:\\Users\\Baron\\anaconda3\\Lib\\site-packages\\h5py\\__init__.py:36: UserWarning: h5py is running against HDF5 1.14.2 when it was built against 1.14.5, this may cause problems\n",
      "  _warn((\"h5py is running against HDF5 {0} when it was built against {1}, \"\n",
      "C:\\Users\\Baron\\anaconda3\\Lib\\site-packages\\h5py\\__init__.py:36: UserWarning: h5py is running against HDF5 1.14.2 when it was built against 1.14.5, this may cause problems\n",
      "  _warn((\"h5py is running against HDF5 {0} when it was built against {1}, \"\n",
      "C:\\Users\\Baron\\anaconda3\\Lib\\site-packages\\h5py\\__init__.py:36: UserWarning: h5py is running against HDF5 1.14.2 when it was built against 1.14.5, this may cause problems\n",
      "  _warn((\"h5py is running against HDF5 {0} when it was built against {1}, \"\n",
      "C:\\Users\\Baron\\anaconda3\\Lib\\site-packages\\h5py\\__init__.py:36: UserWarning: h5py is running against HDF5 1.14.2 when it was built against 1.14.5, this may cause problems\n",
      "  _warn((\"h5py is running against HDF5 {0} when it was built against {1}, \"\n",
      "C:\\Users\\Baron\\anaconda3\\Lib\\site-packages\\h5py\\__init__.py:36: UserWarning: h5py is running against HDF5 1.14.2 when it was built against 1.14.5, this may cause problems\n",
      "  _warn((\"h5py is running against HDF5 {0} when it was built against {1}, \"\n",
      "C:\\Users\\Baron\\anaconda3\\Lib\\site-packages\\h5py\\__init__.py:36: UserWarning: h5py is running against HDF5 1.14.2 when it was built against 1.14.5, this may cause problems\n",
      "  _warn((\"h5py is running against HDF5 {0} when it was built against {1}, \"\n",
      "C:\\Users\\Baron\\anaconda3\\Lib\\site-packages\\h5py\\__init__.py:36: UserWarning: h5py is running against HDF5 1.14.2 when it was built against 1.14.5, this may cause problems\n",
      "  _warn((\"h5py is running against HDF5 {0} when it was built against {1}, \"\n",
      "C:\\Users\\Baron\\anaconda3\\Lib\\site-packages\\h5py\\__init__.py:36: UserWarning: h5py is running against HDF5 1.14.2 when it was built against 1.14.5, this may cause problems\n",
      "  _warn((\"h5py is running against HDF5 {0} when it was built against {1}, \"\n"
     ]
    },
    {
     "name": "stdout",
     "output_type": "stream",
     "text": [
      "Tensorflow Version: 2.14.1\n"
     ]
    }
   ],
   "source": [
    "import matplotlib.pyplot as plt\n",
    "%matplotlib inline\n",
    "\n",
    "import numpy as np\n",
    "from sklearn.model_selection import train_test_split\n",
    "\n",
    "import tensorflow as tf\n",
    "from tensorflow import keras\n",
    "\n",
    "print(\"Tensorflow Version:\", tf.__version__)\n",
    "#print(\"Keras Version:\", keras.__version__)"
   ]
  },
  {
   "cell_type": "markdown",
   "metadata": {},
   "source": [
    "### Loads the Dataset from the MNIST Library\n",
    "    Loads it in terms of training and testing pools. \n",
    "    Also prints out the shape information of the newly created variables\n"
   ]
  },
  {
   "cell_type": "code",
   "execution_count": 3,
   "metadata": {},
   "outputs": [
    {
     "name": "stdout",
     "output_type": "stream",
     "text": [
      "Xtrain <class 'numpy.ndarray'> (60000, 28, 28)\n",
      "Xtest <class 'numpy.ndarray'> (10000, 28, 28)\n",
      "ytrain <class 'numpy.ndarray'> (60000,)\n",
      "ytest <class 'numpy.ndarray'> (10000,)\n",
      "Xtrain <class 'numpy.ndarray'> (60000, 784)\n",
      "Xtest <class 'numpy.ndarray'> (10000, 784)\n",
      "ytrain <class 'numpy.ndarray'> (60000,)\n",
      "ytest <class 'numpy.ndarray'> (10000,)\n"
     ]
    }
   ],
   "source": [
    "from keras.datasets import mnist\n",
    "\n",
    "(Xtrain, ytrain), (Xtest, ytest) = mnist.load_data()\n",
    "\n",
    "print('Xtrain', type(Xtrain), Xtrain.shape)\n",
    "print('Xtest', type(Xtest), Xtest.shape)\n",
    "print('ytrain', type(ytrain), ytrain.shape)\n",
    "print('ytest', type(ytest), ytest.shape)\n",
    "\n",
    "\n",
    "Xtrain = Xtrain.reshape(len(Xtrain), 28*28)\n",
    "Xtest = Xtest.reshape(len(Xtest), 28*28)\n",
    "\n",
    "print('Xtrain', type(Xtrain), Xtrain.shape)\n",
    "print('Xtest', type(Xtest), Xtest.shape)\n",
    "print('ytrain', type(ytrain), ytrain.shape)\n",
    "print('ytest', type(ytest), ytest.shape)\n",
    "\n"
   ]
  },
  {
   "cell_type": "markdown",
   "metadata": {},
   "source": [
    "### Visualize an example from the MNIST 28x28 Dataset:\n",
    "    The code below plots the second number in the image dataset.\n",
    "    Per the homework, the index was changed to portray a different number, and that number \n",
    "    is 4\n",
    "    "
   ]
  },
  {
   "cell_type": "code",
   "execution_count": 4,
   "metadata": {},
   "outputs": [
    {
     "data": {
      "image/png": "[encoded data removed]",
      "text/plain": [
       "<Figure size 640x480 with 1 Axes>"
      ]
     },
     "metadata": {},
     "output_type": "display_data"
    }
   ],
   "source": [
    "plt.imshow(Xtrain[9].reshape(28,28), cmap = plt.cm.binary, interpolation = 'nearest') \n",
    "plt.show()"
   ]
  },
  {
   "cell_type": "markdown",
   "metadata": {},
   "source": [
    "### The below code analyzes and visualizes the distribution of digit labels in your training dataset (ytrain) — for example, how many times each digit (0–9) appearsand then graphs it."
   ]
  },
  {
   "cell_type": "code",
   "execution_count": 5,
   "metadata": {},
   "outputs": [
    {
     "name": "stdout",
     "output_type": "stream",
     "text": [
      "distribution of train data: {0: 5923, 1: 6742, 2: 5958, 3: 6131, 4: 5842, 5: 5421, 6: 5918, 7: 6265, 8: 5851, 9: 5949}\n",
      "distribution of test data {0: 980, 1: 1135, 2: 1032, 3: 1010, 4: 982, 5: 892, 6: 958, 7: 1028, 8: 974, 9: 1009}\n"
     ]
    },
    {
     "data": {
      "image/png": "[encoded data removed]",
      "text/plain": [
       "<Figure size 640x480 with 1 Axes>"
      ]
     },
     "metadata": {},
     "output_type": "display_data"
    }
   ],
   "source": [
    "digit_train, counts_train = np.unique(ytrain, return_counts = True)\n",
    "digit_test, counts_test = np.unique(ytest, return_counts= True)\n",
    "\n",
    "\n",
    "distribution_train = dict(zip(digit_train, counts_train))\n",
    "print(\"distribution of train data:\", distribution_train )\n",
    "\n",
    "distribution_test = dict(zip(digit_test, counts_test))\n",
    "print(\"distribution of test data\", distribution_test)\n",
    "\n",
    "plt.bar(list(distribution_train.keys()),distribution_train.values(),width =0.6)\n",
    "plt.xlabel('Digit Number')\n",
    "plt.ylabel('Counts')\n",
    "\n",
    "plt.bar(list(distribution_test.keys()),distribution_test.values(),width =0.6)\n",
    "plt.xlabel('Digit Number')\n",
    "plt.ylabel('Counts')\n",
    "\n",
    "\n",
    "plt.show()"
   ]
  },
  {
   "cell_type": "markdown",
   "metadata": {},
   "source": [
    "### This asserts the train and test split of the MNIST Dataset. "
   ]
  },
  {
   "cell_type": "code",
   "execution_count": 6,
   "metadata": {},
   "outputs": [
    {
     "name": "stdout",
     "output_type": "stream",
     "text": [
      "(50000, 784) (10000, 784)\n",
      "[8 5 1 ... 0 0 4] [7 3 8 ... 9 8 1]\n"
     ]
    }
   ],
   "source": [
    "#test size 1/12 = 55k train / 5k test\n",
    "#test size = 1/6 = 50k train / 5k test\n",
    "\n",
    "X_train, X_val, y_train, y_val  = train_test_split(Xtrain, ytrain, test_size = 1/6, random_state = 42)\n",
    "print(X_train.shape, X_val.shape)\n",
    "print(y_train, y_val)"
   ]
  },
  {
   "cell_type": "markdown",
   "metadata": {},
   "source": [
    "### This portion of the code sets up the infrastructure of the Nueral Network"
   ]
  },
  {
   "cell_type": "code",
   "execution_count": 7,
   "metadata": {},
   "outputs": [],
   "source": [
    "## READ \"Implementing MLPs with Keras\" on Hands-On Machine Learning with Scikit-Learn, Keras & Tensorflow \n",
    "#(pages 295-308)\n",
    "from tensorflow.keras.optimizers import SGD\n",
    "\n",
    "\n",
    "model = keras.models.Sequential()\n",
    "\n",
    "model.add(keras.layers.Dense(300, activation=\"sigmoid\", input_shape=(784,)))\n",
    "model.add(keras.layers.Dense(300, activation=\"sigmoid\"))\n",
    "model.add(keras.layers.Dense(300, activation=\"relu\"))\n",
    "model.add(keras.layers.Dense(10, activation=\"softmax\"))\n",
    "\n",
    "sgd = SGD(learning_rate=0.1)\n",
    "model.compile(optimizer=sgd,\n",
    "              loss='sparse_categorical_crossentropy',\n",
    "              metrics=['accuracy'])\n",
    "\n",
    "X_train = X_train.astype('float32')/255.0\n",
    "y_train = y_train.astype('uint')\n",
    "X_val = X_val.astype('float32')/255.0\n",
    "y_val = y_val.astype('uint')\n",
    "\n"
   ]
  },
  {
   "cell_type": "code",
   "execution_count": 8,
   "metadata": {},
   "outputs": [
    {
     "name": "stdout",
     "output_type": "stream",
     "text": [
      "Epoch 1/15\n",
      "391/391 [==============================] - 2s 4ms/step - loss: 1.7740 - accuracy: 0.3722 - val_loss: 0.9011 - val_accuracy: 0.7205\n",
      "Epoch 2/15\n",
      "391/391 [==============================] - 2s 4ms/step - loss: 0.6416 - accuracy: 0.7958 - val_loss: 0.5087 - val_accuracy: 0.8355\n",
      "Epoch 3/15\n",
      "391/391 [==============================] - 2s 4ms/step - loss: 0.4303 - accuracy: 0.8705 - val_loss: 0.4332 - val_accuracy: 0.8640\n",
      "Epoch 4/15\n",
      "391/391 [==============================] - 2s 4ms/step - loss: 0.3786 - accuracy: 0.8882 - val_loss: 0.4723 - val_accuracy: 0.8534\n",
      "Epoch 5/15\n",
      "391/391 [==============================] - 2s 4ms/step - loss: 0.3460 - accuracy: 0.8980 - val_loss: 0.3389 - val_accuracy: 0.8982\n",
      "Epoch 6/15\n",
      "391/391 [==============================] - 2s 4ms/step - loss: 0.3208 - accuracy: 0.9054 - val_loss: 0.3059 - val_accuracy: 0.9092\n",
      "Epoch 7/15\n",
      "391/391 [==============================] - 2s 4ms/step - loss: 0.3019 - accuracy: 0.9110 - val_loss: 0.3008 - val_accuracy: 0.9102\n",
      "Epoch 8/15\n",
      "391/391 [==============================] - 2s 4ms/step - loss: 0.2872 - accuracy: 0.9153 - val_loss: 0.2709 - val_accuracy: 0.9174\n",
      "Epoch 9/15\n",
      "391/391 [==============================] - 2s 4ms/step - loss: 0.2727 - accuracy: 0.9194 - val_loss: 0.2780 - val_accuracy: 0.9149\n",
      "Epoch 10/15\n",
      "391/391 [==============================] - 2s 4ms/step - loss: 0.2597 - accuracy: 0.9230 - val_loss: 0.2533 - val_accuracy: 0.9231\n",
      "Epoch 11/15\n",
      "391/391 [==============================] - 2s 4ms/step - loss: 0.2495 - accuracy: 0.9266 - val_loss: 0.2438 - val_accuracy: 0.9262\n",
      "Epoch 12/15\n",
      "391/391 [==============================] - 2s 4ms/step - loss: 0.2383 - accuracy: 0.9294 - val_loss: 0.2476 - val_accuracy: 0.9231\n",
      "Epoch 13/15\n",
      "391/391 [==============================] - 2s 4ms/step - loss: 0.2286 - accuracy: 0.9329 - val_loss: 0.2267 - val_accuracy: 0.9311\n",
      "Epoch 14/15\n",
      "391/391 [==============================] - 2s 4ms/step - loss: 0.2210 - accuracy: 0.9349 - val_loss: 0.2567 - val_accuracy: 0.9197\n",
      "Epoch 15/15\n",
      "391/391 [==============================] - 2s 4ms/step - loss: 0.2129 - accuracy: 0.9369 - val_loss: 0.2199 - val_accuracy: 0.9328\n"
     ]
    },
    {
     "data": {
      "text/plain": [
       "<keras.src.callbacks.History at 0x26d4f2ebb50>"
      ]
     },
     "execution_count": 8,
     "metadata": {},
     "output_type": "execute_result"
    }
   ],
   "source": [
    "model.fit(X_train, y_train, batch_size=128, epochs=15, validation_data =(X_val,y_val))\n"
   ]
  },
  {
   "cell_type": "code",
   "execution_count": 9,
   "metadata": {},
   "outputs": [
    {
     "name": "stdout",
     "output_type": "stream",
     "text": [
      "Model: \"sequential\"\n",
      "_________________________________________________________________\n",
      " Layer (type)                Output Shape              Param #   \n",
      "=================================================================\n",
      " dense (Dense)               (None, 300)               235500    \n",
      "                                                                 \n",
      " dense_1 (Dense)             (None, 300)               90300     \n",
      "                                                                 \n",
      " dense_2 (Dense)             (None, 300)               90300     \n",
      "                                                                 \n",
      " dense_3 (Dense)             (None, 10)                3010      \n",
      "                                                                 \n",
      "=================================================================\n",
      "Total params: 419110 (1.60 MB)\n",
      "Trainable params: 419110 (1.60 MB)\n",
      "Non-trainable params: 0 (0.00 Byte)\n",
      "_________________________________________________________________\n"
     ]
    }
   ],
   "source": [
    "model.summary()"
   ]
  },
  {
   "cell_type": "code",
   "execution_count": 10,
   "metadata": {},
   "outputs": [
    {
     "name": "stdout",
     "output_type": "stream",
     "text": [
      "Accuracy: 0.934\n"
     ]
    }
   ],
   "source": [
    "X_test = Xtest.astype('float32')/255.0\n",
    "y_test = ytest.astype('uint')\n",
    "\n",
    "\n",
    "loss, acc = model.evaluate(X_test, y_test, verbose=0)\n",
    "print('Accuracy: %.3f' % acc)\n",
    "     "
   ]
  },
  {
   "attachments": {},
   "cell_type": "markdown",
   "metadata": {},
   "source": [
    "\n"
   ]
  },
  {
   "cell_type": "code",
   "execution_count": 11,
   "metadata": {},
   "outputs": [
    {
     "name": "stdout",
     "output_type": "stream",
     "text": [
      "313/313 [==============================] - 1s 2ms/step\n",
      "Confusion Matrix\n",
      "[[ 956    0    3    1    0   10    9    1    0    0]\n",
      " [   0 1116    3    2    0    2    4    2    6    0]\n",
      " [   8    3  980    4    9    1    9    6   11    1]\n",
      " [   0    2   34  883    0   62    1   10   17    1]\n",
      " [   1    2    4    0  937    1   10    2    5   20]\n",
      " [   6    2    2   10    5  830   10    0   22    5]\n",
      " [   9    3    7    0    8   20  908    0    3    0]\n",
      " [   3   14   32    4    3    1    0  953    1   17]\n",
      " [   5    9    8   19    8   40    7    4  873    1]\n",
      " [   9   11    2    8   45    9    0    8    8  909]]\n",
      "Classification Report\n",
      "              precision    recall  f1-score   support\n",
      "\n",
      "           0       0.96      0.98      0.97       980\n",
      "           1       0.96      0.98      0.97      1135\n",
      "           2       0.91      0.95      0.93      1032\n",
      "           3       0.95      0.87      0.91      1010\n",
      "           4       0.92      0.95      0.94       982\n",
      "           5       0.85      0.93      0.89       892\n",
      "           6       0.95      0.95      0.95       958\n",
      "           7       0.97      0.93      0.95      1028\n",
      "           8       0.92      0.90      0.91       974\n",
      "           9       0.95      0.90      0.93      1009\n",
      "\n",
      "    accuracy                           0.93     10000\n",
      "   macro avg       0.93      0.93      0.93     10000\n",
      "weighted avg       0.94      0.93      0.93     10000\n",
      "\n"
     ]
    }
   ],
   "source": [
    "from sklearn.metrics import classification_report, confusion_matrix\n",
    "\n",
    "\n",
    "\n",
    "y_proba = model.predict(X_test) \n",
    "y_pred = np.argmax(y_proba,axis=1)\n",
    "print('Confusion Matrix')\n",
    "print(confusion_matrix(y_test, y_pred))\n",
    "print('Classification Report')\n",
    "print(classification_report(y_test, y_pred))\n"
   ]
  },
  {
   "cell_type": "markdown",
   "metadata": {},
   "source": [
    "### OPTIMIZED VERSION"
   ]
  },
  {
   "cell_type": "code",
   "execution_count": 23,
   "metadata": {},
   "outputs": [
    {
     "name": "stdout",
     "output_type": "stream",
     "text": [
      "Xtrain <class 'numpy.ndarray'> (60000, 28, 28)\n",
      "Xtest <class 'numpy.ndarray'> (10000, 28, 28)\n",
      "ytrain <class 'numpy.ndarray'> (60000,)\n",
      "ytest <class 'numpy.ndarray'> (10000,)\n",
      "Xtrain <class 'numpy.ndarray'> (60000, 784)\n",
      "Xtest <class 'numpy.ndarray'> (10000, 784)\n",
      "ytrain <class 'numpy.ndarray'> (60000,)\n",
      "ytest <class 'numpy.ndarray'> (10000,)\n"
     ]
    }
   ],
   "source": [
    "(Xtrain, ytrain), (Xtest, ytest) = mnist.load_data()\n",
    "\n",
    "print('Xtrain', type(Xtrain), Xtrain.shape)\n",
    "print('Xtest', type(Xtest), Xtest.shape)\n",
    "print('ytrain', type(ytrain), ytrain.shape)\n",
    "print('ytest', type(ytest), ytest.shape)\n",
    "\n",
    "\n",
    "Xtrain = Xtrain.reshape(len(Xtrain), 28*28)\n",
    "Xtest = Xtest.reshape(len(Xtest), 28*28)\n",
    "\n",
    "print('Xtrain', type(Xtrain), Xtrain.shape)\n",
    "print('Xtest', type(Xtest), Xtest.shape)\n",
    "print('ytrain', type(ytrain), ytrain.shape)\n",
    "print('ytest', type(ytest), ytest.shape)"
   ]
  },
  {
   "cell_type": "code",
   "execution_count": 24,
   "metadata": {},
   "outputs": [
    {
     "name": "stdout",
     "output_type": "stream",
     "text": [
      "(50000, 784) (10000, 784)\n",
      "[8 5 1 ... 0 0 4] [7 3 8 ... 9 8 1]\n"
     ]
    }
   ],
   "source": [
    "#test size 1/12 = 55k train / 5k test\n",
    "#test size = 1/6 = 50k train / 5k test\n",
    "\n",
    "X_train, X_val, y_train, y_val  = train_test_split(Xtrain, ytrain, test_size = 1/6, random_state = 42)\n",
    "print(X_train.shape, X_val.shape)\n",
    "print(y_train, y_val)"
   ]
  },
  {
   "cell_type": "code",
   "execution_count": 25,
   "metadata": {},
   "outputs": [
    {
     "name": "stdout",
     "output_type": "stream",
     "text": [
      "Model 1 compiled successfully.\n",
      "Model 2 compiled successfully.\n",
      "Model 3 compiled successfully.\n",
      "Model 4 compiled successfully.\n",
      "Model 1 compiled successfully with new SGD instance.\n",
      "Model 2 compiled successfully with new SGD instance.\n",
      "Model 3 compiled successfully with new SGD instance.\n",
      "Model 4 compiled successfully with new SGD instance.\n"
     ]
    }
   ],
   "source": [
    "## READ \"Implementing MLPs with Keras\" on Hands-On Machine Learning with Scikit-Learn, Keras & Tensorflow \n",
    "#(pages 295-308)\n",
    "from tensorflow.keras.optimizers import SGD\n",
    "\n",
    "\n",
    "from tensorflow import keras\n",
    "\n",
    "# Common training parameters\n",
    "input_shape = (784,)\n",
    "num_classes = 10\n",
    "\n",
    "# Model 1: 300-300-300 (sigmoid, sigmoid, relu)\n",
    "model1 = keras.models.Sequential([\n",
    "    keras.layers.Dense(300, activation=\"sigmoid\", input_shape=input_shape),\n",
    "    keras.layers.Dense(300, activation=\"sigmoid\"),\n",
    "    keras.layers.Dense(300, activation=\"relu\"),\n",
    "    keras.layers.Dense(num_classes, activation=\"softmax\")\n",
    "])\n",
    "\n",
    "# Model 2: 128-64 (relu)\n",
    "model2 = keras.models.Sequential([\n",
    "    keras.layers.Dense(128, activation=\"relu\", input_shape=input_shape),\n",
    "    keras.layers.Dense(64, activation=\"relu\"),\n",
    "    keras.layers.Dense(num_classes, activation=\"softmax\")\n",
    "])\n",
    "\n",
    "# Model 3: 512-256-128-64 (relu)\n",
    "model3 = keras.models.Sequential([\n",
    "    keras.layers.Dense(512, activation=\"relu\", input_shape=input_shape),\n",
    "    keras.layers.Dense(256, activation=\"relu\"),\n",
    "    keras.layers.Dense(128, activation=\"relu\"),\n",
    "    keras.layers.Dense(64, activation=\"relu\"),\n",
    "    keras.layers.Dense(num_classes, activation=\"softmax\")\n",
    "])\n",
    "\n",
    "# Model 4: 256-256 (tanh)\n",
    "model4 = keras.models.Sequential([\n",
    "    keras.layers.Dense(256, activation=\"tanh\", input_shape=input_shape),\n",
    "    keras.layers.Dense(256, activation=\"tanh\"),\n",
    "    keras.layers.Dense(num_classes, activation=\"softmax\")\n",
    "])\n",
    "\n",
    "# Compile all models\n",
    "models = [model1, model2, model3, model4]\n",
    "for i, model in enumerate(models, start=1):\n",
    "    model.compile(optimizer='adam',\n",
    "                  loss='sparse_categorical_crossentropy',\n",
    "                  metrics=['accuracy'])\n",
    "    print(f\"Model {i} compiled successfully.\")\n",
    "\n",
    "sgd = SGD(learning_rate=0.1)\n",
    "model.compile(optimizer=sgd,\n",
    "              loss='sparse_categorical_crossentropy',\n",
    "              metrics=['accuracy'])\n",
    "\n",
    "X_train = X_train.astype('float32')/255.0\n",
    "y_train = y_train.astype('uint')\n",
    "X_val = X_val.astype('float32')/255.0\n",
    "y_val = y_val.astype('uint')\n",
    "\n",
    "#------------------------------------------------------------------\n",
    "# Define a new optimizer for each model and compile\n",
    "for i, model in enumerate(models, start=1):\n",
    "    optimizer = SGD(learning_rate=0.1)  # fresh optimizer instance\n",
    "    model.compile(optimizer=optimizer,\n",
    "                  loss='sparse_categorical_crossentropy',\n",
    "                  metrics=['accuracy'])\n",
    "    print(f\"Model {i} compiled successfully with new SGD instance.\")\n",
    "\n",
    "# Normalize input data\n",
    "#X_train = X_train.astype('float32') / 255.0\n",
    "#X_val = X_val.astype('float32') / 255.0\n",
    "\n",
    "# Ensure labels are uint type\n",
    "y_train = y_train.astype('uint')\n",
    "y_val = y_val.astype('uint')"
   ]
  },
  {
   "cell_type": "code",
   "execution_count": 26,
   "metadata": {},
   "outputs": [
    {
     "name": "stdout",
     "output_type": "stream",
     "text": [
      "\n",
      "Training Model 1...\n",
      "\n",
      "Epoch 1/15\n",
      "391/391 [==============================] - 2s 5ms/step - loss: 1.8682 - accuracy: 0.3366 - val_loss: 0.9525 - val_accuracy: 0.6845\n",
      "Epoch 2/15\n",
      "391/391 [==============================] - 2s 4ms/step - loss: 0.6987 - accuracy: 0.7697 - val_loss: 0.5519 - val_accuracy: 0.8287\n",
      "Epoch 3/15\n",
      "391/391 [==============================] - 2s 4ms/step - loss: 0.4594 - accuracy: 0.8627 - val_loss: 0.5095 - val_accuracy: 0.8266\n",
      "Epoch 4/15\n",
      "391/391 [==============================] - 2s 4ms/step - loss: 0.3888 - accuracy: 0.8861 - val_loss: 0.4287 - val_accuracy: 0.8664\n",
      "Epoch 5/15\n",
      "391/391 [==============================] - 2s 4ms/step - loss: 0.3539 - accuracy: 0.8956 - val_loss: 0.3282 - val_accuracy: 0.9031\n",
      "Epoch 6/15\n",
      "391/391 [==============================] - 2s 4ms/step - loss: 0.3307 - accuracy: 0.9026 - val_loss: 0.3395 - val_accuracy: 0.9004\n",
      "Epoch 7/15\n",
      "391/391 [==============================] - 2s 4ms/step - loss: 0.3079 - accuracy: 0.9102 - val_loss: 0.3042 - val_accuracy: 0.9108\n",
      "Epoch 8/15\n",
      "391/391 [==============================] - 2s 4ms/step - loss: 0.2906 - accuracy: 0.9141 - val_loss: 0.2987 - val_accuracy: 0.9090\n",
      "Epoch 9/15\n",
      "391/391 [==============================] - 2s 4ms/step - loss: 0.2772 - accuracy: 0.9182 - val_loss: 0.2719 - val_accuracy: 0.9188\n",
      "Epoch 10/15\n",
      "391/391 [==============================] - 2s 4ms/step - loss: 0.2643 - accuracy: 0.9212 - val_loss: 0.2792 - val_accuracy: 0.9147\n",
      "Epoch 11/15\n",
      "391/391 [==============================] - 2s 5ms/step - loss: 0.2528 - accuracy: 0.9245 - val_loss: 0.2591 - val_accuracy: 0.9215\n",
      "Epoch 12/15\n",
      "391/391 [==============================] - 2s 4ms/step - loss: 0.2418 - accuracy: 0.9279 - val_loss: 0.2499 - val_accuracy: 0.9242\n",
      "Epoch 13/15\n",
      "391/391 [==============================] - 2s 4ms/step - loss: 0.2327 - accuracy: 0.9299 - val_loss: 0.2253 - val_accuracy: 0.9332\n",
      "Epoch 14/15\n",
      "391/391 [==============================] - 2s 4ms/step - loss: 0.2249 - accuracy: 0.9331 - val_loss: 0.2312 - val_accuracy: 0.9308\n",
      "Epoch 15/15\n",
      "391/391 [==============================] - 2s 4ms/step - loss: 0.2163 - accuracy: 0.9354 - val_loss: 0.2132 - val_accuracy: 0.9340\n",
      "\n",
      "Training Model 2...\n",
      "\n",
      "Epoch 1/15\n",
      "391/391 [==============================] - 1s 3ms/step - loss: 0.4663 - accuracy: 0.8681 - val_loss: 0.2801 - val_accuracy: 0.9163\n",
      "Epoch 2/15\n",
      "391/391 [==============================] - 1s 3ms/step - loss: 0.2278 - accuracy: 0.9337 - val_loss: 0.1940 - val_accuracy: 0.9446\n",
      "Epoch 3/15\n",
      "391/391 [==============================] - 1s 3ms/step - loss: 0.1729 - accuracy: 0.9500 - val_loss: 0.1518 - val_accuracy: 0.9560\n",
      "Epoch 4/15\n",
      "391/391 [==============================] - 1s 3ms/step - loss: 0.1382 - accuracy: 0.9601 - val_loss: 0.1373 - val_accuracy: 0.9601\n",
      "Epoch 5/15\n",
      "391/391 [==============================] - 1s 3ms/step - loss: 0.1168 - accuracy: 0.9668 - val_loss: 0.1225 - val_accuracy: 0.9628\n",
      "Epoch 6/15\n",
      "391/391 [==============================] - 1s 3ms/step - loss: 0.0993 - accuracy: 0.9713 - val_loss: 0.1197 - val_accuracy: 0.9655\n",
      "Epoch 7/15\n",
      "391/391 [==============================] - 1s 3ms/step - loss: 0.0874 - accuracy: 0.9748 - val_loss: 0.0987 - val_accuracy: 0.9711\n",
      "Epoch 8/15\n",
      "391/391 [==============================] - 1s 3ms/step - loss: 0.0765 - accuracy: 0.9782 - val_loss: 0.0999 - val_accuracy: 0.9690\n",
      "Epoch 9/15\n",
      "391/391 [==============================] - 1s 3ms/step - loss: 0.0678 - accuracy: 0.9818 - val_loss: 0.0891 - val_accuracy: 0.9731\n",
      "Epoch 10/15\n",
      "391/391 [==============================] - 1s 3ms/step - loss: 0.0611 - accuracy: 0.9826 - val_loss: 0.0890 - val_accuracy: 0.9730\n",
      "Epoch 11/15\n",
      "391/391 [==============================] - 1s 3ms/step - loss: 0.0547 - accuracy: 0.9844 - val_loss: 0.0934 - val_accuracy: 0.9727\n",
      "Epoch 12/15\n",
      "391/391 [==============================] - 1s 3ms/step - loss: 0.0501 - accuracy: 0.9859 - val_loss: 0.0873 - val_accuracy: 0.9746\n",
      "Epoch 13/15\n",
      "391/391 [==============================] - 1s 3ms/step - loss: 0.0447 - accuracy: 0.9875 - val_loss: 0.0857 - val_accuracy: 0.9734\n",
      "Epoch 14/15\n",
      "391/391 [==============================] - 1s 3ms/step - loss: 0.0406 - accuracy: 0.9892 - val_loss: 0.0785 - val_accuracy: 0.9767\n",
      "Epoch 15/15\n",
      "391/391 [==============================] - 1s 3ms/step - loss: 0.0360 - accuracy: 0.9902 - val_loss: 0.0832 - val_accuracy: 0.9762\n",
      "\n",
      "Training Model 3...\n",
      "\n",
      "Epoch 1/15\n",
      "391/391 [==============================] - 3s 6ms/step - loss: 0.4497 - accuracy: 0.8655 - val_loss: 0.3263 - val_accuracy: 0.8922\n",
      "Epoch 2/15\n",
      "391/391 [==============================] - 2s 6ms/step - loss: 0.1589 - accuracy: 0.9529 - val_loss: 0.1294 - val_accuracy: 0.9594\n",
      "Epoch 3/15\n",
      "391/391 [==============================] - 2s 5ms/step - loss: 0.1101 - accuracy: 0.9672 - val_loss: 0.1103 - val_accuracy: 0.9667\n",
      "Epoch 4/15\n",
      "391/391 [==============================] - 2s 5ms/step - loss: 0.0804 - accuracy: 0.9761 - val_loss: 0.1134 - val_accuracy: 0.9661\n",
      "Epoch 5/15\n",
      "391/391 [==============================] - 2s 5ms/step - loss: 0.0619 - accuracy: 0.9812 - val_loss: 0.1249 - val_accuracy: 0.9615\n",
      "Epoch 6/15\n",
      "391/391 [==============================] - 2s 5ms/step - loss: 0.0469 - accuracy: 0.9862 - val_loss: 0.0885 - val_accuracy: 0.9725\n",
      "Epoch 7/15\n",
      "391/391 [==============================] - 2s 6ms/step - loss: 0.0367 - accuracy: 0.9889 - val_loss: 0.0790 - val_accuracy: 0.9746\n",
      "Epoch 8/15\n",
      "391/391 [==============================] - 2s 6ms/step - loss: 0.0284 - accuracy: 0.9918 - val_loss: 0.0733 - val_accuracy: 0.9787\n",
      "Epoch 9/15\n",
      "391/391 [==============================] - 2s 6ms/step - loss: 0.0218 - accuracy: 0.9937 - val_loss: 0.0758 - val_accuracy: 0.9767\n",
      "Epoch 10/15\n",
      "391/391 [==============================] - 2s 5ms/step - loss: 0.0156 - accuracy: 0.9961 - val_loss: 0.0720 - val_accuracy: 0.9793\n",
      "Epoch 11/15\n",
      "391/391 [==============================] - 2s 6ms/step - loss: 0.0121 - accuracy: 0.9970 - val_loss: 0.0793 - val_accuracy: 0.9784\n",
      "Epoch 12/15\n",
      "391/391 [==============================] - 2s 6ms/step - loss: 0.0081 - accuracy: 0.9983 - val_loss: 0.0677 - val_accuracy: 0.9825\n",
      "Epoch 13/15\n",
      "391/391 [==============================] - 2s 5ms/step - loss: 0.0050 - accuracy: 0.9994 - val_loss: 0.0740 - val_accuracy: 0.9813\n",
      "Epoch 14/15\n",
      "391/391 [==============================] - 2s 5ms/step - loss: 0.0050 - accuracy: 0.9994 - val_loss: 0.0715 - val_accuracy: 0.9815\n",
      "Epoch 15/15\n",
      "391/391 [==============================] - 2s 5ms/step - loss: 0.0028 - accuracy: 0.9997 - val_loss: 0.0732 - val_accuracy: 0.9819\n",
      "\n",
      "Training Model 4...\n",
      "\n",
      "Epoch 1/15\n",
      "391/391 [==============================] - 2s 3ms/step - loss: 0.4287 - accuracy: 0.8804 - val_loss: 0.2971 - val_accuracy: 0.9125\n",
      "Epoch 2/15\n",
      "391/391 [==============================] - 1s 3ms/step - loss: 0.2718 - accuracy: 0.9228 - val_loss: 0.2553 - val_accuracy: 0.9248\n",
      "Epoch 3/15\n",
      "391/391 [==============================] - 1s 3ms/step - loss: 0.2263 - accuracy: 0.9355 - val_loss: 0.2182 - val_accuracy: 0.9349\n",
      "Epoch 4/15\n",
      "391/391 [==============================] - 1s 3ms/step - loss: 0.1910 - accuracy: 0.9454 - val_loss: 0.1904 - val_accuracy: 0.9447\n",
      "Epoch 5/15\n",
      "391/391 [==============================] - 1s 3ms/step - loss: 0.1635 - accuracy: 0.9536 - val_loss: 0.1642 - val_accuracy: 0.9522\n",
      "Epoch 6/15\n",
      "391/391 [==============================] - 1s 3ms/step - loss: 0.1430 - accuracy: 0.9584 - val_loss: 0.1597 - val_accuracy: 0.9513\n",
      "Epoch 7/15\n",
      "391/391 [==============================] - 1s 3ms/step - loss: 0.1264 - accuracy: 0.9644 - val_loss: 0.1329 - val_accuracy: 0.9615\n",
      "Epoch 8/15\n",
      "391/391 [==============================] - 1s 3ms/step - loss: 0.1132 - accuracy: 0.9680 - val_loss: 0.1225 - val_accuracy: 0.9629\n",
      "Epoch 9/15\n",
      "391/391 [==============================] - 1s 3ms/step - loss: 0.1018 - accuracy: 0.9709 - val_loss: 0.1139 - val_accuracy: 0.9662\n",
      "Epoch 10/15\n",
      "391/391 [==============================] - 1s 3ms/step - loss: 0.0917 - accuracy: 0.9737 - val_loss: 0.1091 - val_accuracy: 0.9672\n",
      "Epoch 11/15\n",
      "391/391 [==============================] - 1s 3ms/step - loss: 0.0836 - accuracy: 0.9763 - val_loss: 0.1072 - val_accuracy: 0.9665\n",
      "Epoch 12/15\n",
      "391/391 [==============================] - 1s 3ms/step - loss: 0.0759 - accuracy: 0.9792 - val_loss: 0.0979 - val_accuracy: 0.9697\n",
      "Epoch 13/15\n",
      "391/391 [==============================] - 1s 3ms/step - loss: 0.0696 - accuracy: 0.9809 - val_loss: 0.0962 - val_accuracy: 0.9700\n",
      "Epoch 14/15\n",
      "391/391 [==============================] - 1s 3ms/step - loss: 0.0641 - accuracy: 0.9825 - val_loss: 0.0903 - val_accuracy: 0.9708\n",
      "Epoch 15/15\n",
      "391/391 [==============================] - 1s 3ms/step - loss: 0.0586 - accuracy: 0.9837 - val_loss: 0.0869 - val_accuracy: 0.9735\n"
     ]
    }
   ],
   "source": [
    "batch_size = 128\n",
    "epochs = 15\n",
    "\n",
    "# Train each model\n",
    "for i, model in enumerate(models, start=1):\n",
    "    print(f\"\\nTraining Model {i}...\\n\")\n",
    "    model.fit(X_train, y_train,\n",
    "              batch_size=batch_size,\n",
    "              epochs=epochs,\n",
    "              validation_data=(X_val, y_val))"
   ]
  },
  {
   "cell_type": "code",
   "execution_count": 27,
   "metadata": {},
   "outputs": [
    {
     "name": "stdout",
     "output_type": "stream",
     "text": [
      "Model 1 - Test Accuracy: 0.937\n",
      "Model 2 - Test Accuracy: 0.975\n",
      "Model 3 - Test Accuracy: 0.982\n",
      "Model 4 - Test Accuracy: 0.974\n"
     ]
    }
   ],
   "source": [
    "# Normalize test data\n",
    "X_test = Xtest.astype('float32') / 255.0\n",
    "y_test = ytest.astype('uint')\n",
    "\n",
    "# Evaluate each model on the test set\n",
    "for i, model in enumerate(models, start=1):\n",
    "    loss, acc = model.evaluate(X_test, y_test, verbose=0)\n",
    "    print(f\"Model {i} - Test Accuracy: {acc:.3f}\")"
   ]
  },
  {
   "cell_type": "code",
   "execution_count": null,
   "metadata": {},
   "outputs": [],
   "source": []
  }
 ],
 "metadata": {
  "kernelspec": {
   "display_name": "Python 3 (ipykernel)",
   "language": "python",
   "name": "python3"
  },
  "language_info": {
   "codemirror_mode": {
    "name": "ipython",
    "version": 3
   },
   "file_extension": ".py",
   "mimetype": "text/x-python",
   "name": "python",
   "nbconvert_exporter": "python",
   "pygments_lexer": "ipython3",
   "version": "3.8.18"
  }
 },
 "nbformat": 4,
 "nbformat_minor": 4
}
