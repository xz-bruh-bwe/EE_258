{
 "cells": [
  {
   "cell_type": "code",
   "execution_count": 1,
   "id": "806ea7dc-4f02-4485-9e0b-eb03dd51e01d",
   "metadata": {},
   "outputs": [
    {
     "data": {
      "text/plain": [
       "'C:\\\\Users\\\\Baron\\\\Desktop\\\\EE_258_Repo\\\\EE_258\\\\ML_PATH_EE258\\\\EE258_env\\\\EE-210'"
      ]
     },
     "execution_count": 1,
     "metadata": {},
     "output_type": "execute_result"
    }
   ],
   "source": [
    "pwd"
   ]
  },
  {
   "cell_type": "markdown",
   "id": "e10e26ce-4c80-42d4-9043-5782a79d5b72",
   "metadata": {},
   "source": [
    "### H[e^jw) and input x(n) to find polar form"
   ]
  },
  {
   "cell_type": "code",
   "execution_count": 32,
   "id": "b4e172df-fbcb-4dd3-9f01-02418e280d65",
   "metadata": {},
   "outputs": [
    {
     "name": "stdout",
     "output_type": "stream",
     "text": [
      "H(e^j0) = 2.00+0.00j, DC Output = 4.00+0.00j\n",
      "H(e^jπ/4) = 1.00-1.00j, Magnitude = 1.41, Angle = -45.00°\n",
      "Output Phasor = 4.10+1.10j, Magnitude = 4.24, Phase = 15.00°\n",
      "\n",
      "Polar form output:\n",
      "y[n] = 4.00+0.00j + 4.24 ∠ +15.0°\n"
     ]
    }
   ],
   "source": [
    "import numpy as np\n",
    "\n",
    "# Filter coefficients\n",
    "h = np.array([1, 0, 1])\n",
    "\n",
    "# Frequencies to evaluate\n",
    "w0 = 0\n",
    "w1 = np.pi / 4\n",
    "\n",
    "# Input signal parameters\n",
    "A_dc = 2\n",
    "A_cos = 3\n",
    "phi = np.pi / 3\n",
    "\n",
    "# Frequency response function\n",
    "def H(ejw):\n",
    "    return h[0] + h[1] * np.exp(-1j * ejw) + h[2] * np.exp(-2j * ejw)\n",
    "\n",
    "# Evaluate H at w = 0\n",
    "H0 = H(w0)\n",
    "dc_output = A_dc * H0 \n",
    "\n",
    "# Evaluate H at w = pi/4\n",
    "H1 = H(w1)\n",
    "input_phasor = A_cos * np.exp(1j * phi)\n",
    "output_phasor = H1 * input_phasor\n",
    "A_out = np.abs(output_phasor)\n",
    "phi_out = np.angle(output_phasor, deg=True)  # degrees\n",
    "\n",
    "# Polar form\n",
    "A_out = np.abs(output_phasor)\n",
    "phi_out_deg = np.angle(output_phasor, deg=True)\n",
    "\n",
    "# Rectangular form\n",
    "real_part = np.real(output_phasor)\n",
    "imag_part = np.imag(output_phasor)\n",
    "\n",
    "# Display results\n",
    "print(f\"H(e^j0) = {H0:.2f}, DC Output = {dc_output:.2f}\")\n",
    "print(f\"H(e^jπ/4) = {H1:.2f}, Magnitude = {np.abs(H1):.2f}, Angle = {np.angle(H1, deg=True):.2f}°\")\n",
    "print(f\"Output Phasor = {output_phasor:.2f}, Magnitude = {A_out:.2f}, Phase = {phi_out:.2f}°\")\n",
    "\n",
    "# Reconstruct y(n)\n",
    "n = np.arange(20)\n",
    "y = dc_output + A_out * np.cos(w1 * n + np.deg2rad(phi_out))\n",
    "\n",
    "# Print polar form representation\n",
    "print(\"\\nPolar form output:\")\n",
    "print(f\"y[n] = {dc_output:.2f} + {A_out:.2f} ∠ {phi_out:+.1f}°\")\n",
    "\n",
    "\n",
    "\n",
    "\n",
    "## Plotting (optional)\n",
    "#import matplotlib.pyplot as plt\n",
    "#plt.stem(n, y, basefmt=\" \")\n",
    "#\n",
    "#plt.title(\"Output y(n)\")\n",
    "#plt.xlabel(\"n\")\n",
    "#plt.ylabel(\"y(n)\")\n",
    "#plt.grid(True)\n",
    "#plt.show()\n"
   ]
  },
  {
   "cell_type": "code",
   "execution_count": 42,
   "id": "4f33adb5-711b-4ad1-9c9b-6bed62448d87",
   "metadata": {},
   "outputs": [
    {
     "name": "stdout",
     "output_type": "stream",
     "text": [
      "15° = pi/12 radians\n"
     ]
    }
   ],
   "source": [
    "import numpy as np\n",
    "\n",
    "import sympy as sp\n",
    "\n",
    "def deg_to_rad_pi(degrees):\n",
    "    \"\"\"\n",
    "    Convert degrees to radians and express result in terms of π.\n",
    "\n",
    "    Parameters:\n",
    "        degrees (int or float): Angle in degrees\n",
    "\n",
    "    Returns:\n",
    "        sympy expression: Angle in radians as a multiple of π\n",
    "    \"\"\"\n",
    "    radians = sp.Rational(degrees, 180) * sp.pi\n",
    "    return sp.simplify(radians)\n",
    "sp.init_printing()  # Optional: pretty print output\n",
    "angle_deg = 15\n",
    "angle_rad = deg_to_rad_pi(angle_deg)\n",
    "\n",
    "print(f\"{angle_deg}° = {angle_rad} radians\")"
   ]
  },
  {
   "cell_type": "code",
   "execution_count": 28,
   "id": "4e686456-2ea2-4f1a-a1a0-bb1ded78391c",
   "metadata": {},
   "outputs": [
    {
     "name": "stdout",
     "output_type": "stream",
     "text": [
      "Rectangular form: 4.00+3.00j  →  Real: 4.00, Imag: 3.00\n"
     ]
    }
   ],
   "source": [
    "import numpy as np\n",
    "\n",
    "def polar_to_rect(magnitude, angle_deg):\n",
    "    \"\"\"\n",
    "    Convert a complex number from polar to rectangular form.\n",
    "\n",
    "    Parameters:\n",
    "        magnitude (float): Magnitude of the complex number\n",
    "        angle_deg (float): Angle in degrees\n",
    "\n",
    "    Returns:\n",
    "        complex: Rectangular form as a complex number (real + j*imag)\n",
    "    \"\"\"\n",
    "    angle_rad = np.deg2rad(angle_deg)\n",
    "    real = magnitude * np.cos(angle_rad)\n",
    "    imag = magnitude * np.sin(angle_rad)\n",
    "    return complex(real, imag)\n",
    "\n",
    "z = polar_to_rect(5, 36.87)\n",
    "print(f\"Rectangular form: {z:.2f}  →  Real: {z.real:.2f}, Imag: {z.imag:.2f}\")\n"
   ]
  },
  {
   "cell_type": "code",
   "execution_count": null,
   "id": "44b6c257-7b80-4533-acda-939ef16ab7b5",
   "metadata": {},
   "outputs": [],
   "source": []
  }
 ],
 "metadata": {
  "kernelspec": {
   "display_name": "custom_python_kernel",
   "language": "python",
   "name": "custom_python_kernel"
  },
  "language_info": {
   "codemirror_mode": {
    "name": "ipython",
    "version": 3
   },
   "file_extension": ".py",
   "mimetype": "text/x-python",
   "name": "python",
   "nbconvert_exporter": "python",
   "pygments_lexer": "ipython3",
   "version": "3.11.11"
  }
 },
 "nbformat": 4,
 "nbformat_minor": 5
}
