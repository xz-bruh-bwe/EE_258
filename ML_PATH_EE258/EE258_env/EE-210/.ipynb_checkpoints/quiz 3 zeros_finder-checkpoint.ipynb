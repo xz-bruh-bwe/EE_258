{
 "cells": [
  {
   "cell_type": "code",
   "execution_count": 1,
   "id": "afa98876-fbbd-41db-9d8f-52fb4433c686",
   "metadata": {},
   "outputs": [
    {
     "data": {
      "text/plain": [
       "'C:\\\\Users\\\\Baron\\\\Desktop\\\\EE_258_Repo\\\\EE_258\\\\ML_PATH_EE258\\\\EE258_env\\\\EE-210'"
      ]
     },
     "execution_count": 1,
     "metadata": {},
     "output_type": "execute_result"
    }
   ],
   "source": [
    "pwd "
   ]
  },
  {
   "cell_type": "markdown",
   "id": "e35b43c9-1297-4251-873c-72734cce5895",
   "metadata": {},
   "source": [
    "### Zeros finder of polynomials"
   ]
  },
  {
   "cell_type": "code",
   "execution_count": 16,
   "id": "55269d0b-ec89-47e3-b4d8-e9a8a51ea4af",
   "metadata": {},
   "outputs": [
    {
     "name": "stdout",
     "output_type": "stream",
     "text": [
      "Zeros in z⁻¹ domain:\n",
      "-3.00000000000000\n",
      "-2.00000000000000\n",
      "\n",
      "Corresponding zeros in z domain:\n",
      "-0.333333333333333\n",
      "-0.500000000000000\n"
     ]
    },
    {
     "data": {
      "text/plain": [
       "([-3.00000000000000, -2.00000000000000],\n",
       " [-0.333333333333333, -0.500000000000000])"
      ]
     },
     "execution_count": 16,
     "metadata": {},
     "output_type": "execute_result"
    }
   ],
   "source": [
    "import sympy as sp\n",
    "\n",
    "def find_zeros_and_convert():\n",
    "    u = sp.Symbol('u')  # u = z⁻¹\n",
    "    z = sp.Symbol('z')\n",
    "\n",
    "    # Define the polynomial in z⁻¹ (i.e., u)\n",
    "    poly = 1 + (5/6)*u + (1/6)*u**2\n",
    "\n",
    "    # Find zeros in z⁻¹\n",
    "    zeros_zinv = sp.solve(poly, u)\n",
    "\n",
    "    print(\"Zeros in z⁻¹ domain:\")\n",
    "    for root in zeros_zinv:\n",
    "        sp.pprint(root, use_unicode=True)\n",
    "\n",
    "    # Convert to z-domain using z = 1 / u\n",
    "    zeros_z = [1 / root for root in zeros_zinv]\n",
    "\n",
    "    print(\"\\nCorresponding zeros in z domain:\")\n",
    "    for root in zeros_z:\n",
    "        sp.pprint(sp.simplify(root), use_unicode=True)\n",
    "\n",
    "    return zeros_zinv, zeros_z\n",
    "\n",
    "# Run the function\n",
    "find_zeros_and_convert()\n"
   ]
  },
  {
   "cell_type": "code",
   "execution_count": null,
   "id": "6d9db02c-7b26-4aac-8b90-fdaca2798212",
   "metadata": {},
   "outputs": [],
   "source": []
  }
 ],
 "metadata": {
  "kernelspec": {
   "display_name": "custom_python_kernel",
   "language": "python",
   "name": "custom_python_kernel"
  },
  "language_info": {
   "codemirror_mode": {
    "name": "ipython",
    "version": 3
   },
   "file_extension": ".py",
   "mimetype": "text/x-python",
   "name": "python",
   "nbconvert_exporter": "python",
   "pygments_lexer": "ipython3",
   "version": "3.11.11"
  }
 },
 "nbformat": 4,
 "nbformat_minor": 5
}
