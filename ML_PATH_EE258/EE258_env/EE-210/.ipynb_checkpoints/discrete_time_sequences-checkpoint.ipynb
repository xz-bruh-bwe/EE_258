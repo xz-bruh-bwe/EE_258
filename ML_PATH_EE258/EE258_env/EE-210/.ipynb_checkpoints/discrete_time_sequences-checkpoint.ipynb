{
 "cells": [
  {
   "cell_type": "code",
   "execution_count": 1,
   "id": "362f5a70-5877-4dde-aeaf-ebe4c0cfdb99",
   "metadata": {},
   "outputs": [
    {
     "data": {
      "text/plain": [
       "'C:\\\\Users\\\\Baron\\\\Desktop\\\\EE_258_Repo\\\\EE_258\\\\ML_PATH_EE258\\\\EE258_env\\\\EE-210'"
      ]
     },
     "execution_count": 1,
     "metadata": {},
     "output_type": "execute_result"
    }
   ],
   "source": [
    "pwd"
   ]
  },
  {
   "cell_type": "code",
   "execution_count": 6,
   "id": "b19c37b4-ae81-4a56-933e-f7796afbef19",
   "metadata": {},
   "outputs": [],
   "source": [
    "import numpy as np"
   ]
  },
  {
   "cell_type": "markdown",
   "id": "cd4a5387-a559-4274-b491-5e8b04387e6a",
   "metadata": {},
   "source": [
    "### Solve Discrete Time Sequences"
   ]
  },
  {
   "cell_type": "code",
   "execution_count": 15,
   "id": "62de285d-e85f-45ba-8744-46baea8dfcff",
   "metadata": {},
   "outputs": [
    {
     "name": "stdout",
     "output_type": "stream",
     "text": [
      "y[n] = [0, 0, 1, 1, 0, 0, -2, -2, 1, 1]\n"
     ]
    }
   ],
   "source": [
    "import numpy as np\n",
    "\n",
    "# Given x[n], red value is n = 0\n",
    "x = [1, 1, 1, 1, -1, -1]\n",
    "\n",
    "# Extend x with zeros to allow shifting\n",
    "h = np.array(x + [0]*4)  # Add 4 zeros to the end for shifting\n",
    "\n",
    "# Compute y[n] = h[n - 2] - h[n - 4]\n",
    "h_shift_2 = np.roll(h, 2)\n",
    "h_shift_4 = np.roll(h, 4)\n",
    "\n",
    "# Zero out the start to simulate causal shift (n < 0 undefined)\n",
    "h_shift_2[:2] = 0\n",
    "h_shift_4[:4] = 0\n",
    "\n",
    "# Final y[n]\n",
    "y = h_shift_2 - h_shift_4\n",
    "\n",
    "# Trim y to the same length as shown in the answer (10 values)\n",
    "y = y[:10]\n",
    "\n",
    "print(\"y[n] =\", y.tolist())"
   ]
  },
  {
   "cell_type": "code",
   "execution_count": 21,
   "id": "59de6099-4cb6-4e1f-9f19-d4ed0bfdd3df",
   "metadata": {},
   "outputs": [
    {
     "name": "stdout",
     "output_type": "stream",
     "text": [
      "Step-by-step computation:\n",
      "n = 0: y[0] = x[-2] - x[-4] = 0 - 0 = 0\n",
      "n = 1: y[1] = x[-1] - x[-3] = 0 - 0 = 0\n",
      "n = 2: y[2] = x[0] - x[-2] = 1 - 0 = 1\n",
      "n = 3: y[3] = x[1] - x[-1] = 1 - 0 = 1\n",
      "n = 4: y[4] = x[2] - x[0] = 1 - 1 = 0\n",
      "n = 5: y[5] = x[3] - x[1] = 1 - 1 = 0\n",
      "n = 6: y[6] = x[4] - x[2] = -1 - 1 = -2\n",
      "n = 7: y[7] = x[5] - x[3] = -1 - 1 = -2\n",
      "n = 8: y[8] = x[6] - x[4] = 0 - -1 = 1\n",
      "n = 9: y[9] = x[7] - x[5] = 0 - -1 = 1\n"
     ]
    }
   ],
   "source": [
    "def compute_y(x, num_outputs):\n",
    "    # Pad x with zeros to handle negative indices safely\n",
    "    pad = 4  # max shift needed\n",
    "    x_full = [0]*pad + x + [0]*pad  # padding both sides\n",
    "    offset = pad  # index shift to simulate x[n] with negative n\n",
    "    \n",
    "    print(\"Step-by-step computation:\")\n",
    "    for n in range(num_outputs):\n",
    "        idx_2 = n - 2\n",
    "        idx_4 = n - 4\n",
    "        x_n2 = x_full[idx_2 + offset] if 0 <= (idx_2 + offset) < len(x_full) else 0\n",
    "        x_n4 = x_full[idx_4 + offset] if 0 <= (idx_4 + offset) < len(x_full) else 0\n",
    "        y_n = x_n2 - x_n4\n",
    "        print(f\"n = {n}: y[{n}] = x[{idx_2}] - x[{idx_4}] = {x_n2} - {x_n4} = {y_n}\")\n",
    "\n",
    "# Example usage\n",
    "x = [1, 1, 1, 1, -1, -1]\n",
    "compute_y(x, num_outputs=10)"
   ]
  },
  {
   "cell_type": "code",
   "execution_count": null,
   "id": "a422c811-510d-432b-b7d2-1f6fd500ec1c",
   "metadata": {},
   "outputs": [],
   "source": []
  },
  {
   "cell_type": "code",
   "execution_count": 29,
   "id": "6be5e3cc-b19e-4109-8e83-25358c03e4fa",
   "metadata": {},
   "outputs": [
    {
     "name": "stdout",
     "output_type": "stream",
     "text": [
      "y[n] = {1, 0, 0, 0, -1, 0, 0, 0, 0, 0, 0, ...}\n"
     ]
    }
   ],
   "source": [
    "def compute_y_from_input_diff(x_func, n_max):\n",
    "    x_vals = [x_func(n) for n in range(n_max + 1)]\n",
    "    y_vals = [0] * (n_max + 1)\n",
    "\n",
    "    for n in range(n_max + 1):\n",
    "        x_n = x_vals[n]\n",
    "        x_n2 = x_vals[n - 2] if n >= 2 else 0\n",
    "        y_vals[n] = x_n - x_n2\n",
    "\n",
    "    # Print in the required format\n",
    "    output_str = \", \".join(str(v) for v in y_vals)\n",
    "    print(f\"y[n] = {{{output_str}, ...}}\")\n",
    "\n",
    "# Example: x[n] = δ[n] + δ[n - 2]\n",
    "x_fn = lambda n: 1 if n == 0 or n == 2 else 0\n",
    "compute_y_from_input_diff(x_fn, 10)\n"
   ]
  },
  {
   "cell_type": "code",
   "execution_count": 31,
   "id": "f132348a-cf6a-453c-b60a-83924f9614d3",
   "metadata": {},
   "outputs": [
    {
     "name": "stdout",
     "output_type": "stream",
     "text": [
      "y[n] = {3, 8, 14, 20, 11, 4}\n"
     ]
    }
   ],
   "source": [
    "import numpy as np\n",
    "\n",
    "# Define the sequences\n",
    "x = [1, 2, 3, 4]\n",
    "h = [3, 2, 1]\n",
    "\n",
    "# Perform linear convolution\n",
    "y = np.convolve(x, h)\n",
    "\n",
    "# Print result in desired format\n",
    "output_str = \", \".join(str(v) for v in y)\n",
    "print(f\"y[n] = {{{output_str}}}\")"
   ]
  },
  {
   "cell_type": "code",
   "execution_count": null,
   "id": "bafa979d-fa22-46df-9151-b1c92f727500",
   "metadata": {},
   "outputs": [],
   "source": []
  }
 ],
 "metadata": {
  "kernelspec": {
   "display_name": "custom_python_kernel",
   "language": "python",
   "name": "custom_python_kernel"
  },
  "language_info": {
   "codemirror_mode": {
    "name": "ipython",
    "version": 3
   },
   "file_extension": ".py",
   "mimetype": "text/x-python",
   "name": "python",
   "nbconvert_exporter": "python",
   "pygments_lexer": "ipython3",
   "version": "3.11.11"
  }
 },
 "nbformat": 4,
 "nbformat_minor": 5
}
