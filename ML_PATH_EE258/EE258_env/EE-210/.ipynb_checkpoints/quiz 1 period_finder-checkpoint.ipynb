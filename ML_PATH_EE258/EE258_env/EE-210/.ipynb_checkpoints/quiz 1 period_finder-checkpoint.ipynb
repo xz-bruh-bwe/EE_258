{
 "cells": [
  {
   "cell_type": "code",
   "execution_count": 1,
   "id": "3458b4cd-fca5-422e-81b5-86714d79a151",
   "metadata": {},
   "outputs": [
    {
     "data": {
      "text/plain": [
       "'C:\\\\Users\\\\Baron\\\\Desktop\\\\EE_258_Repo\\\\EE_258\\\\ML_PATH_EE258\\\\EE258_env\\\\EE-210'"
      ]
     },
     "execution_count": 1,
     "metadata": {},
     "output_type": "execute_result"
    }
   ],
   "source": [
    "pwd"
   ]
  },
  {
   "cell_type": "markdown",
   "id": "432287d6-680b-44cd-b6e0-9f0015f72745",
   "metadata": {},
   "source": [
    "### Period Finder"
   ]
  },
  {
   "cell_type": "code",
   "execution_count": 32,
   "id": "c781fd3c-580b-4818-ad8d-0161a4e73e4d",
   "metadata": {},
   "outputs": [
    {
     "name": "stdout",
     "output_type": "stream",
     "text": [
      "Fundamental Period N = 30\n"
     ]
    }
   ],
   "source": [
    "from fractions import Fraction\n",
    "from math import lcm\n",
    "\n",
    "def find_period(frequencies):\n",
    "    # Convert frequencies to Fractions and compute individual periods\n",
    "    periods = []\n",
    "    for f in frequencies:\n",
    "        frac = Fraction(f).limit_denominator()\n",
    "        periods.append(frac.denominator)\n",
    "    \n",
    "    # Compute the least common multiple of all denominators\n",
    "    fundamental_period = periods[0]\n",
    "    for p in periods[1:]:\n",
    "        fundamental_period = lcm(fundamental_period, p)\n",
    "\n",
    "    return fundamental_period\n",
    "\n",
    "# Example: frequencies from e^{jπn/5}, e^{j2πn/3}, e^{jπn}\n",
    "frequencies = [1/10, 1/3, 1/2]  # Corresponds to π/5 = 2π/10, 2π/3, π = 2π/2\n",
    "\n",
    "period = find_period(frequencies)\n",
    "print(f\"Fundamental Period N = {period}\")"
   ]
  },
  {
   "cell_type": "code",
   "execution_count": null,
   "id": "6db26b48-be02-4471-9d50-db3a3ed35637",
   "metadata": {},
   "outputs": [],
   "source": []
  }
 ],
 "metadata": {
  "kernelspec": {
   "display_name": "custom_python_kernel",
   "language": "python",
   "name": "custom_python_kernel"
  },
  "language_info": {
   "codemirror_mode": {
    "name": "ipython",
    "version": 3
   },
   "file_extension": ".py",
   "mimetype": "text/x-python",
   "name": "python",
   "nbconvert_exporter": "python",
   "pygments_lexer": "ipython3",
   "version": "3.11.11"
  }
 },
 "nbformat": 4,
 "nbformat_minor": 5
}
