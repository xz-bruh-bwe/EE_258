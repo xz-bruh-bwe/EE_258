{
 "cells": [
  {
   "cell_type": "code",
   "execution_count": 1,
   "id": "caffb8fb-c5f1-45eb-8f6f-9a96eca794b4",
   "metadata": {},
   "outputs": [
    {
     "data": {
      "text/plain": [
       "'C:\\\\Users\\\\Baron\\\\Desktop\\\\EE_258_Repo\\\\EE_258\\\\ML_PATH_EE258\\\\EE258_env\\\\EE-210'"
      ]
     },
     "execution_count": 1,
     "metadata": {},
     "output_type": "execute_result"
    }
   ],
   "source": [
    "pwd"
   ]
  },
  {
   "cell_type": "markdown",
   "id": "a14d16c3-0c90-4833-9f92-9d81c6494732",
   "metadata": {},
   "source": [
    "### Integration property to find fourier transform"
   ]
  },
  {
   "cell_type": "code",
   "execution_count": 24,
   "id": "7c7c2817-86f1-4a07-9215-b7f149cff8bd",
   "metadata": {},
   "outputs": [
    {
     "name": "stdout",
     "output_type": "stream",
     "text": [
      "                2      \n",
      "2⋅π⋅δ(ω) + ────────────\n",
      "               ⎛ 2    ⎞\n",
      "           j⋅ω⋅⎝ω  + 1⎠\n"
     ]
    },
    {
     "data": {
      "text/latex": [
       "$\\displaystyle 2 \\pi \\delta\\left(\\omega\\right) + \\frac{2}{j \\omega \\left(\\omega^{2} + 1\\right)}$"
      ],
      "text/plain": [
       "2*pi*DiracDelta(omega) + 2/(j*omega*(omega**2 + 1))"
      ]
     },
     "execution_count": 24,
     "metadata": {},
     "output_type": "execute_result"
    }
   ],
   "source": [
    "import sympy as sp\n",
    "\n",
    "# Define symbols\n",
    "omega, j = sp.symbols('omega j', real=True)\n",
    "DiracDelta = sp.DiracDelta\n",
    "pi = sp.pi\n",
    "\n",
    "# Given: X(omega) = 2 / (1 + omega^2)\n",
    "X_omega = 2 / (1 + omega**2)\n",
    "\n",
    "# X(0) for the delta function term\n",
    "X_0 = X_omega.subs(omega, 0)\n",
    "\n",
    "# Apply integration property:\n",
    "# F{∫ x(τ) dτ} = X(ω)/(jω) + π X(0) δ(ω)\n",
    "FT_result = (2 / (j * omega * (1 + omega**2))) + 2 * pi * DiracDelta(omega)\n",
    "\n",
    "# Display the result without simplifying signs\n",
    "sp.pprint(FT_result, use_unicode=True)\n",
    "FT_result"
   ]
  },
  {
   "cell_type": "code",
   "execution_count": null,
   "id": "50a5db66-5266-4169-83cc-dfc8bf23e797",
   "metadata": {},
   "outputs": [],
   "source": []
  }
 ],
 "metadata": {
  "kernelspec": {
   "display_name": "custom_python_kernel",
   "language": "python",
   "name": "custom_python_kernel"
  },
  "language_info": {
   "codemirror_mode": {
    "name": "ipython",
    "version": 3
   },
   "file_extension": ".py",
   "mimetype": "text/x-python",
   "name": "python",
   "nbconvert_exporter": "python",
   "pygments_lexer": "ipython3",
   "version": "3.11.11"
  }
 },
 "nbformat": 4,
 "nbformat_minor": 5
}
