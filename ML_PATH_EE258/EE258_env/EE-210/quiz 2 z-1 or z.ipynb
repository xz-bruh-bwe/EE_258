{
 "cells": [
  {
   "cell_type": "code",
   "execution_count": 19,
   "id": "1bb70337-3439-483f-a404-3a2b5adeabae",
   "metadata": {},
   "outputs": [
    {
     "data": {
      "text/plain": [
       "'C:\\\\Users\\\\Baron\\\\Desktop\\\\EE_258_Repo\\\\EE_258\\\\ML_PATH_EE258\\\\EE258_env\\\\EE-210'"
      ]
     },
     "execution_count": 19,
     "metadata": {},
     "output_type": "execute_result"
    }
   ],
   "source": [
    "pwd"
   ]
  },
  {
   "cell_type": "code",
   "execution_count": null,
   "id": "ffe2415b-fff2-4b13-9b60-6827fe60b7f6",
   "metadata": {},
   "outputs": [],
   "source": []
  },
  {
   "cell_type": "markdown",
   "id": "f941f8f2-3031-4b01-b88d-e4b56573e5b5",
   "metadata": {},
   "source": [
    "### Conversion"
   ]
  },
  {
   "cell_type": "code",
   "execution_count": 15,
   "id": "c2720098-d81b-43b5-817f-f86bba9b1abc",
   "metadata": {},
   "outputs": [
    {
     "data": {
      "image/png": "[encoded data removed]",
      "text/latex": [
       "$\\displaystyle - \\frac{0.666666666666667}{z \\left(1 - \\frac{0.333333333333333}{z}\\right) \\left(1 + \\frac{0.75}{z}\\right)}$"
      ],
      "text/plain": [
       "        -0.666666666666667          \n",
       "────────────────────────────────────\n",
       "  ⎛    0.333333333333333⎞ ⎛    0.75⎞\n",
       "z⋅⎜1 - ─────────────────⎟⋅⎜1 + ────⎟\n",
       "  ⎝            z        ⎠ ⎝     z  ⎠"
      ]
     },
     "execution_count": 15,
     "metadata": {},
     "output_type": "execute_result"
    }
   ],
   "source": [
    "import sympy as sp\n",
    "\n",
    "from prettytable import PrettyTable\n",
    "\n",
    "# Enable pretty printing\n",
    "sp.init_printing()\n",
    "\n",
    "\n",
    "# Define symbolic variables\n",
    "z = sp.Symbol('z')\n",
    "z_inv = sp.Symbol('z_inv')\n",
    "\n",
    "\n",
    "# Define H(z⁻¹) using plain Python fractions\n",
    "#H_zinv = (2 - (1/6) * z**(-1)) / ((1 - (1/2) * z**(-1)) * (1 - (1/3) * z**(-1)))\n",
    "# Define H(z⁻¹) using normal Python-style fractions\n",
    "#H_zinv = ((4/3) + (2/3) * z**(-1)) / ((1 - z**(-1)) * (1 + (1/2) * z**(-1)))\n",
    "\n",
    "H_zinv = ((-2/3) * z**(-1)) / ((1 - (1/3) * z**(-1)) * (1 + (3/4) * z**(-1)))\n",
    "H_zinv"
   ]
  },
  {
   "cell_type": "code",
   "execution_count": 17,
   "id": "162915c9-4bce-4e1b-a905-6d1a13409b6e",
   "metadata": {},
   "outputs": [
    {
     "name": "stdout",
     "output_type": "stream",
     "text": [
      "From z^(-1) to factored z form:\n",
      "          -0.666666666666667⋅z            \n",
      "──────────────────────────────────────────\n",
      "(1.0⋅z - 0.333333333333333)⋅(1.0⋅z + 0.75)\n",
      "\n",
      "From factored z to z^(-1) form:\n",
      "        2 - 0.166666666666667⋅zᵢₙᵥ         \n",
      "───────────────────────────────────────────\n",
      "(0.333333333333333⋅zᵢₙᵥ - 1)⋅(0.5⋅zᵢₙᵥ - 1)\n"
     ]
    }
   ],
   "source": [
    "import sympy as sp\n",
    "\n",
    "from prettytable import PrettyTable\n",
    "\n",
    "# Enable pretty printing\n",
    "sp.init_printing()\n",
    "\n",
    "# Define symbolic variables\n",
    "z = sp.Symbol('z')\n",
    "z_inv = sp.Symbol('z_inv')\n",
    "\n",
    "def from_inverse_z_to_factored():\n",
    "    # H(z) in terms of z^(-1)\n",
    "    #H_zinv = (2 - (1/6) * z**(-1)) / ((1 - (1/2) * z**(-1)) * (1 - (1/3) * z**(-1)))\n",
    "    # Multiply by z^2 to eliminate negative powers\n",
    "    H_z_simp = sp.simplify(H_zinv)\n",
    "    H_z = sp.factor(H_z_simp)  # Factor for cleaner appearance\n",
    "    return H_z\n",
    "\n",
    "def from_factored_to_inverse_z():\n",
    "    # Start with factored z form\n",
    "    H_z = (2 * z * (z - 1/12)) / ((z - 1/2) * (z - 1/3))\n",
    "    # Substitute z = 1 / z_inv\n",
    "    H_zinv = H_z.subs(z, 1/z_inv)\n",
    "    H_zinv = sp.simplify(H_zinv)\n",
    "    return H_zinv\n",
    "\n",
    "# Get the outputs\n",
    "factored_expr = from_inverse_z_to_factored()\n",
    "zinv_expr = from_factored_to_inverse_z()\n",
    "\n",
    "# Pretty print\n",
    "print(\"From z^(-1) to factored z form:\")\n",
    "sp.pprint(factored_expr, use_unicode=True)\n",
    "\n",
    "print(\"\\nFrom factored z to z^(-1) form:\")\n",
    "sp.pprint(zinv_expr, use_unicode=True)\n"
   ]
  },
  {
   "cell_type": "code",
   "execution_count": 19,
   "id": "4128c297-276b-422a-bee3-1119013c3899",
   "metadata": {},
   "outputs": [
    {
     "name": "stdout",
     "output_type": "stream",
     "text": [
      "\n",
      "Expanded denominator:\n"
     ]
    },
    {
     "data": {
      "image/png": "[encoded data removed]",
      "text/latex": [
       "$\\displaystyle z + 0.416666666666667 - \\frac{0.25}{z}$"
      ],
      "text/plain": [
       "                        0.25\n",
       "z + 0.416666666666667 - ────\n",
       "                         z  "
      ]
     },
     "execution_count": 19,
     "metadata": {},
     "output_type": "execute_result"
    }
   ],
   "source": [
    "# Extract the denominator only\n",
    "denominator = sp.denom(H_zinv)\n",
    "\n",
    "# Optionally expand it\n",
    "expanded_denom = sp.expand(denominator)\n",
    "\n",
    "\n",
    "print(\"\\nExpanded denominator:\")\n",
    "expanded_denom"
   ]
  },
  {
   "cell_type": "code",
   "execution_count": null,
   "id": "5f2fa0a5-a141-482e-9fa8-a65cc412066f",
   "metadata": {},
   "outputs": [],
   "source": []
  },
  {
   "cell_type": "markdown",
   "id": "3df6fcc4-bb31-4dcb-a352-70b698c701c6",
   "metadata": {},
   "source": [
    "### Partial Fraction Expansion"
   ]
  },
  {
   "cell_type": "code",
   "execution_count": 23,
   "id": "e15d009a-f3fb-4f81-9e6b-7c091d69f4d2",
   "metadata": {},
   "outputs": [
    {
     "data": {
      "image/png": "[encoded data removed]",
      "text/latex": [
       "$\\displaystyle - \\frac{0.615384615384615}{1.0 + \\frac{0.75}{z}} - \\frac{0.615384615384615}{-1.0 + \\frac{0.333333333333333}{z}}$"
      ],
      "text/plain": [
       "  0.615384615384615      0.615384615384615    \n",
       "- ───────────────── - ────────────────────────\n",
       "           0.75              0.333333333333333\n",
       "     1.0 + ────       -1.0 + ─────────────────\n",
       "            z                        z        "
      ]
     },
     "execution_count": 23,
     "metadata": {},
     "output_type": "execute_result"
    }
   ],
   "source": [
    "# Define variables\n",
    "z = sp.Symbol('z')\n",
    "u = sp.Symbol('u')  # u = z⁻¹\n",
    "\n",
    "# Original transfer function H(z⁻¹)\n",
    "\n",
    "# Substitute u = z⁻¹ to make it rational in u\n",
    "H_u = H_zinv.subs(1/z, u)\n",
    "\n",
    "# Perform partial fraction expansion in u\n",
    "H_u_pfe = sp.apart(H_u, u)\n",
    "\n",
    "# Substitute back u = 1/z to return to z⁻¹ form (optional)\n",
    "H_zinv_pfe = H_u_pfe.subs(u, 1/z)\n",
    "H_zinv_pfe*-1"
   ]
  },
  {
   "cell_type": "code",
   "execution_count": null,
   "id": "32f1edc9-88a7-4eae-bbc0-b1ca687cb872",
   "metadata": {},
   "outputs": [],
   "source": [
    "approxi"
   ]
  },
  {
   "cell_type": "markdown",
   "id": "4f15d3e1-a510-4ebd-87e1-0a2225af52d5",
   "metadata": {},
   "source": [
    "### Poles Zeros"
   ]
  },
  {
   "cell_type": "code",
   "execution_count": 157,
   "id": "7dc406cb-55da-4ff1-bcd4-68776ad4891e",
   "metadata": {},
   "outputs": [
    {
     "data": {
      "image/png": "[encoded data removed]",
      "text/plain": [
       "<Figure size 640x480 with 1 Axes>"
      ]
     },
     "metadata": {},
     "output_type": "display_data"
    },
    {
     "name": "stdout",
     "output_type": "stream",
     "text": [
      "[0.5        0.33333333]\n",
      "[0.08333333 0.         0.         0.        ]\n"
     ]
    }
   ],
   "source": [
    "import sympy as sp\n",
    "import numpy as np\n",
    "import matplotlib.pyplot as plt\n",
    "\n",
    "# Setup symbols\n",
    "sp.init_printing()\n",
    "z = sp.Symbol('z')\n",
    "\n",
    "# Define H(z⁻¹)\n",
    "H_zinv = (2 - (1/6) * z**(-1)) / ((1 - (1/2) * z**(-1)) * (1 - (1/3) * z**(-1)))\n",
    "\n",
    "# Multiply both num and denom by z^2 to eliminate all negative powers\n",
    "H_z = sp.simplify(H_zinv * z**2)\n",
    "\n",
    "# Expand numerator and denominator\n",
    "numer = sp.expand(sp.numer(H_z))\n",
    "denom = sp.expand(sp.denom(H_z))\n",
    "\n",
    "# Convert symbolic expressions to polynomial coefficient lists\n",
    "num_poly = sp.Poly(numer, z)\n",
    "den_poly = sp.Poly(denom, z)\n",
    "\n",
    "num_coeffs = [float(c) for c in num_poly.all_coeffs()]\n",
    "den_coeffs = [float(c) for c in den_poly.all_coeffs()]\n",
    "\n",
    "# Compute poles and zeros\n",
    "zeros = np.roots(num_coeffs)\n",
    "poles = np.roots(den_coeffs)\n",
    "\n",
    "# Plot\n",
    "fig, ax = plt.subplots()\n",
    "ax.set_title(\"Poles and Zeros Relative to Unit Circle\")\n",
    "ax.set_xlabel(\"Real\")\n",
    "ax.set_ylabel(\"Imaginary\")\n",
    "ax.axhline(0, color='black', lw=0.5)\n",
    "ax.axvline(0, color='black', lw=0.5)\n",
    "ax.set_aspect('equal')\n",
    "ax.set_xlim(-1.5, 1.5)\n",
    "ax.set_ylim(-1.5, 1.5)\n",
    "ax.grid(True)\n",
    "\n",
    "# Draw unit circle\n",
    "unit_circle = plt.Circle((0, 0), 1, color='gray', fill=False, linestyle='--')\n",
    "ax.add_artist(unit_circle)\n",
    "\n",
    "# Plot zeros and poles\n",
    "ax.plot(np.real(zeros), np.imag(zeros), 'go', label='Zeros')\n",
    "ax.plot(np.real(poles), np.imag(poles), 'rx', label='Poles')\n",
    "\n",
    "ax.legend()\n",
    "plt.show()\n",
    "\n",
    "print(poles)\n",
    "print(zeros)\n"
   ]
  },
  {
   "cell_type": "code",
   "execution_count": 135,
   "id": "593ef0ed-1adc-4d87-91a0-ffebea4a761b",
   "metadata": {},
   "outputs": [
    {
     "name": "stdout",
     "output_type": "stream",
     "text": [
      "+----+----------------+---------------+----------------+---------------+----------------+---------------+\n",
      "| x  | 1/x (Fraction) | 1/x (Decimal) | 2/x (Fraction) | 2/x (Decimal) | 3/x (Fraction) | 3/x (Decimal) |\n",
      "+----+----------------+---------------+----------------+---------------+----------------+---------------+\n",
      "| 1  |       1        |      1.0      |       2        |      2.0      |       3        |      3.0      |\n",
      "| 2  |      1/2       |      0.5      |       1        |      1.0      |      3/2       |      1.5      |\n",
      "| 3  |      1/3       |    0.33333    |      2/3       |    0.66667    |       1        |      1.0      |\n",
      "| 4  |      1/4       |      0.25     |      1/2       |      0.5      |      3/4       |      0.75     |\n",
      "| 5  |      1/5       |      0.2      |      2/5       |      0.4      |      3/5       |      0.6      |\n",
      "| 6  |      1/6       |    0.16667    |      1/3       |    0.33333    |      1/2       |      0.5      |\n",
      "| 7  |      1/7       |    0.14286    |      2/7       |    0.28571    |      3/7       |    0.42857    |\n",
      "| 8  |      1/8       |     0.125     |      1/4       |      0.25     |      3/8       |     0.375     |\n",
      "| 9  |      1/9       |    0.11111    |      2/9       |    0.22222    |      1/3       |    0.33333    |\n",
      "| 10 |      1/10      |      0.1      |      1/5       |      0.2      |      3/10      |      0.3      |\n",
      "| 11 |      1/11      |    0.09091    |      2/11      |    0.18182    |      3/11      |    0.27273    |\n",
      "| 12 |      1/12      |    0.08333    |      1/6       |    0.16667    |      1/4       |      0.25     |\n",
      "| 13 |      1/13      |    0.07692    |      2/13      |    0.15385    |      3/13      |    0.23077    |\n",
      "| 14 |      1/14      |    0.07143    |      1/7       |    0.14286    |      3/14      |    0.21429    |\n",
      "| 15 |      1/15      |    0.06667    |      2/15      |    0.13333    |      1/5       |      0.2      |\n",
      "| 16 |      1/16      |     0.0625    |      1/8       |     0.125     |      3/16      |     0.1875    |\n",
      "| 17 |      1/17      |    0.05882    |      2/17      |    0.11765    |      3/17      |    0.17647    |\n",
      "| 18 |      1/18      |    0.05556    |      1/9       |    0.11111    |      1/6       |    0.16667    |\n",
      "| 19 |      1/19      |    0.05263    |      2/19      |    0.10526    |      3/19      |    0.15789    |\n",
      "| 20 |      1/20      |      0.05     |      1/10      |      0.1      |      3/20      |      0.15     |\n",
      "| 21 |      1/21      |    0.04762    |      2/21      |    0.09524    |      1/7       |    0.14286    |\n",
      "| 22 |      1/22      |    0.04545    |      1/11      |    0.09091    |      3/22      |    0.13636    |\n",
      "| 23 |      1/23      |    0.04348    |      2/23      |    0.08696    |      3/23      |    0.13043    |\n",
      "| 24 |      1/24      |    0.04167    |      1/12      |    0.08333    |      1/8       |     0.125     |\n",
      "| 25 |      1/25      |      0.04     |      2/25      |      0.08     |      3/25      |      0.12     |\n",
      "| 26 |      1/26      |    0.03846    |      1/13      |    0.07692    |      3/26      |    0.11538    |\n",
      "| 27 |      1/27      |    0.03704    |      2/27      |    0.07407    |      1/9       |    0.11111    |\n",
      "| 28 |      1/28      |    0.03571    |      1/14      |    0.07143    |      3/28      |    0.10714    |\n",
      "| 29 |      1/29      |    0.03448    |      2/29      |    0.06897    |      3/29      |    0.10345    |\n",
      "| 30 |      1/30      |    0.03333    |      1/15      |    0.06667    |      1/10      |      0.1      |\n",
      "+----+----------------+---------------+----------------+---------------+----------------+---------------+\n"
     ]
    }
   ],
   "source": [
    "from prettytable import PrettyTable\n",
    "\n",
    "from fractions import Fraction\n",
    "\n",
    "# Create a table with columns\n",
    "table = PrettyTable()\n",
    "table.field_names = [\n",
    "    \"x\",\n",
    "    \"1/x (Fraction)\", \"1/x (Decimal)\",\n",
    "    \"2/x (Fraction)\", \"2/x (Decimal)\",\n",
    "    \"3/x (Fraction)\", \"3/x (Decimal)\"\n",
    "]\n",
    "\n",
    "# Fill the table with values\n",
    "for x in range(1, 31):\n",
    "    f1 = Fraction(1, x)\n",
    "    f2 = Fraction(2, x)\n",
    "    f3 = Fraction(3, x)\n",
    "    table.add_row([\n",
    "        x,\n",
    "        str(f1), round(float(f1), 5),\n",
    "        str(f2), round(float(f2), 5),\n",
    "        str(f3), round(float(f3), 5)\n",
    "    ])\n",
    "\n",
    "# Print the table\n",
    "print(table)"
   ]
  },
  {
   "cell_type": "code",
   "execution_count": null,
   "id": "ed5efa1f-051a-413e-84c4-0c60dcb7484b",
   "metadata": {},
   "outputs": [],
   "source": []
  },
  {
   "cell_type": "code",
   "execution_count": null,
   "id": "e3105781-d8a2-4023-a4b1-24c4427ace36",
   "metadata": {},
   "outputs": [],
   "source": []
  }
 ],
 "metadata": {
  "kernelspec": {
   "display_name": "custom_python_kernel",
   "language": "python",
   "name": "custom_python_kernel"
  },
  "language_info": {
   "codemirror_mode": {
    "name": "ipython",
    "version": 3
   },
   "file_extension": ".py",
   "mimetype": "text/x-python",
   "name": "python",
   "nbconvert_exporter": "python",
   "pygments_lexer": "ipython3",
   "version": "3.11.11"
  }
 },
 "nbformat": 4,
 "nbformat_minor": 5
}
