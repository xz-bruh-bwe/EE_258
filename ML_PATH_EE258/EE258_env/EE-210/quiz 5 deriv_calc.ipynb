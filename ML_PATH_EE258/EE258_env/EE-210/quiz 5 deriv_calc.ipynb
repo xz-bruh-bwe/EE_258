{
 "cells": [
  {
   "cell_type": "code",
   "execution_count": null,
   "id": "6699f7f0-5ffe-4303-800d-8aadfdb717c5",
   "metadata": {},
   "outputs": [],
   "source": []
  },
  {
   "cell_type": "code",
   "execution_count": 1,
   "id": "7458cacd-55b2-4cc5-9a0e-b5beb19013cd",
   "metadata": {},
   "outputs": [
    {
     "data": {
      "text/plain": [
       "'C:\\\\Users\\\\Baron\\\\Desktop\\\\EE_258_Repo\\\\EE_258\\\\ML_PATH_EE258\\\\EE258_env\\\\EE-210'"
      ]
     },
     "execution_count": 1,
     "metadata": {},
     "output_type": "execute_result"
    }
   ],
   "source": [
    "pwd"
   ]
  },
  {
   "cell_type": "code",
   "execution_count": 7,
   "id": "d226dc7c-1c54-49ba-b8b9-f091e182cd56",
   "metadata": {},
   "outputs": [
    {
     "data": {
      "text/latex": [
       "$\\displaystyle \\pi e^{- \\pi f^{2}}$"
      ],
      "text/plain": [
       "pi*exp(-pi*f**2)"
      ]
     },
     "execution_count": 7,
     "metadata": {},
     "output_type": "execute_result"
    }
   ],
   "source": [
    "from sympy import symbols, I, diff, pi, pprint, exp\n",
    "\n",
    "#main equation\n",
    "# Define symbols\n",
    "f = symbols('f')\n",
    "\n",
    "expr = f_t = pi * exp(-pi * f**2)\n",
    "\n",
    "expr"
   ]
  },
  {
   "cell_type": "markdown",
   "id": "dbc95505-b220-4ec5-83f1-b75d3e790251",
   "metadata": {},
   "source": [
    "### Derivative Calculator"
   ]
  },
  {
   "cell_type": "code",
   "execution_count": 11,
   "id": "3cfbb555-2d2c-4564-b162-44aaa5a611f0",
   "metadata": {},
   "outputs": [
    {
     "name": "stdout",
     "output_type": "stream",
     "text": [
      "-2*pi**2*f*exp(-pi*f**2)\n"
     ]
    },
    {
     "data": {
      "text/latex": [
       "$\\displaystyle - 2 \\pi^{2} f e^{- \\pi f^{2}}$"
      ],
      "text/plain": [
       "-2*pi**2*f*exp(-pi*f**2)"
      ]
     },
     "execution_count": 11,
     "metadata": {},
     "output_type": "execute_result"
    }
   ],
   "source": [
    "import numpy as np\n",
    "from sympy import symbols, diff, pi, pprint\n",
    "\n",
    "\n",
    "# Define symbols\n",
    "a, f = symbols('a f')\n",
    " \n",
    "# Define the expression\n",
    "#expr2 = -16*pi**2*a*f/(a**2 + 4*pi**2*f**2)**2\n",
    "\n",
    "# First derivative\n",
    "d1 = diff(expr, f)\n",
    "\n",
    "# Second derivative\n",
    "d2 = diff(expr, f, 2)\n",
    "\n",
    "# Third derivative\n",
    "d3 = diff(expr, f, 3)\n",
    "\n",
    "print(d1)\n",
    "\n",
    "d1"
   ]
  },
  {
   "cell_type": "code",
   "execution_count": 13,
   "id": "22d74e6b-ff91-4ddc-bed2-196d8279b14b",
   "metadata": {},
   "outputs": [
    {
     "data": {
      "text/latex": [
       "$\\displaystyle 2 \\pi^{2} \\left(2 \\pi f^{2} - 1\\right) e^{- \\pi f^{2}}$"
      ],
      "text/plain": [
       "2*pi**2*(2*pi*f**2 - 1)*exp(-pi*f**2)"
      ]
     },
     "execution_count": 13,
     "metadata": {},
     "output_type": "execute_result"
    }
   ],
   "source": [
    "d2\n"
   ]
  },
  {
   "cell_type": "code",
   "execution_count": 15,
   "id": "fb13c860-0189-4f6e-b77a-0c9a0f3bf9e7",
   "metadata": {},
   "outputs": [
    {
     "name": "stdout",
     "output_type": "stream",
     "text": [
      "     2\n",
      "-2*pi \n"
     ]
    }
   ],
   "source": [
    "# Substitute values: a = 1, f = 2\n",
    "evaluated = d2.subs({f: 0})\n",
    "\n",
    "# Optionally, get a floating point value\n",
    "evaluated_float = evaluated.evalf()\n",
    "\n",
    "pprint(evaluated, use_unicode=False)"
   ]
  },
  {
   "cell_type": "code",
   "execution_count": 17,
   "id": "3607c831-f684-46e4-b8b8-03580974cfe5",
   "metadata": {},
   "outputs": [
    {
     "data": {
      "text/latex": [
       "$\\displaystyle - 4 \\pi^{3} f \\left(2 \\pi f^{2} - 3\\right) e^{- \\pi f^{2}}$"
      ],
      "text/plain": [
       "-4*pi**3*f*(2*pi*f**2 - 3)*exp(-pi*f**2)"
      ]
     },
     "execution_count": 17,
     "metadata": {},
     "output_type": "execute_result"
    }
   ],
   "source": [
    "d3"
   ]
  },
  {
   "cell_type": "code",
   "execution_count": null,
   "id": "0145d5b6-3a01-4faa-bcee-e9345901e682",
   "metadata": {},
   "outputs": [],
   "source": []
  },
  {
   "cell_type": "code",
   "execution_count": 28,
   "id": "a2872538-04e4-473f-8fff-e6daa5d2ccfc",
   "metadata": {},
   "outputs": [
    {
     "name": "stdout",
     "output_type": "stream",
     "text": [
      "(2πi)^0 = 1\n",
      "(2πi)^1 = 2⋅i⋅π\n",
      "(2πi)^2 =    2  2\n",
      "4⋅i ⋅π \n",
      "(2πi)^3 =    3  3\n",
      "8⋅i ⋅π \n",
      "(2πi)^4 =     4  4\n",
      "16⋅i ⋅π \n",
      "(2πi)^5 =     5  5\n",
      "32⋅i ⋅π \n"
     ]
    }
   ],
   "source": [
    "import sympy as sp\n",
    "\n",
    "# Initialize pretty printing\n",
    "sp.init_printing(use_unicode=True)\n",
    "\n",
    "# Define symbols\n",
    "pi, i = sp.symbols('pi i')\n",
    "base_expr = 2 * pi * i\n",
    "\n",
    "# Max power\n",
    "max_n = 5\n",
    "\n",
    "# Compute and print (2 * pi * i)^n from 0 to max_n\n",
    "for n in range(max_n + 1):\n",
    "    expr = sp.expand(base_expr**n)\n",
    "    print(f\"(2πi)^{n} = \", end=\"\")\n",
    "    sp.pprint(expr, use_unicode=True)\n"
   ]
  },
  {
   "cell_type": "code",
   "execution_count": null,
   "id": "00fb2d6d-b19b-4527-8381-02ee82782843",
   "metadata": {},
   "outputs": [],
   "source": []
  }
 ],
 "metadata": {
  "kernelspec": {
   "display_name": "Python [conda env:base] *",
   "language": "python",
   "name": "conda-base-py"
  },
  "language_info": {
   "codemirror_mode": {
    "name": "ipython",
    "version": 3
   },
   "file_extension": ".py",
   "mimetype": "text/x-python",
   "name": "python",
   "nbconvert_exporter": "python",
   "pygments_lexer": "ipython3",
   "version": "3.11.11"
  }
 },
 "nbformat": 4,
 "nbformat_minor": 5
}
