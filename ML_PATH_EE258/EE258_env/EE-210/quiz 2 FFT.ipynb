{
 "cells": [
  {
   "cell_type": "code",
   "execution_count": 2,
   "id": "e8061a08-2b7f-4019-bbc7-513de0f4e596",
   "metadata": {},
   "outputs": [
    {
     "data": {
      "text/plain": [
       "'C:\\\\Users\\\\Baron\\\\Desktop\\\\EE_258_Repo\\\\EE_258\\\\ML_PATH_EE258\\\\EE258_env\\\\EE-210'"
      ]
     },
     "execution_count": 2,
     "metadata": {},
     "output_type": "execute_result"
    }
   ],
   "source": [
    "pwd"
   ]
  },
  {
   "cell_type": "markdown",
   "id": "6893c8a3-fefd-432a-8b74-fda12e064b44",
   "metadata": {},
   "source": [
    "### Calculator For FFT"
   ]
  },
  {
   "cell_type": "code",
   "execution_count": 5,
   "id": "3c88bb6d-3d58-4e3e-9ad2-5de166a29bdf",
   "metadata": {},
   "outputs": [],
   "source": [
    "import numpy as np\n",
    "\n",
    "\n",
    "import numpy as np\n",
    "\n",
    "def twiddle(N, k):\n",
    "    \"\"\"\n",
    "    Compute the twiddle factor W_N^k = exp(-j * 2π * k / N)\n",
    "    \"\"\"\n",
    "    return np.exp(-2j * np.pi * k / N)\n",
    "\n",
    "def fft_radix2(x):\n",
    "    \"\"\"\n",
    "    Recursive radix-2 DIT FFT implementation using twiddle() helper.\n",
    "    Input:  x (list or np.array) of length N = 2^n\n",
    "    Output: FFT of x (as a list of complex numbers)\n",
    "    \"\"\"\n",
    "    N = len(x)\n",
    "    if N <= 1:\n",
    "        return x\n",
    "    if N % 2 != 0:\n",
    "        raise ValueError(\"Input length must be a power of 2\")\n",
    "\n",
    "    # Divide: even and odd index samples\n",
    "    even = fft_radix2(x[0::2])\n",
    "    odd  = fft_radix2(x[1::2])\n",
    "\n",
    "    # Combine using twiddle factors\n",
    "    T = [twiddle(N, k) * odd[k] for k in range(N // 2)]\n",
    "    \n",
    "    return [even[k] + T[k] for k in range(N // 2)] + \\\n",
    "           [even[k] - T[k] for k in range(N // 2)]"
   ]
  },
  {
   "cell_type": "code",
   "execution_count": 9,
   "id": "98554790-f19e-4db0-961c-8fc930a960c9",
   "metadata": {},
   "outputs": [
    {
     "name": "stdout",
     "output_type": "stream",
     "text": [
      "FFT result:\n",
      "A[0] = (10+0j)\n",
      "A[1] = (-2+2j)\n",
      "A[2] = (-2+0j)\n",
      "A[3] = (-1.9999999999999998-2j)\n"
     ]
    }
   ],
   "source": [
    "x = [1, 2, 3, 4]  # Input signal (length must be a power of 2)\n",
    "X = fft_radix2(x)\n",
    "\n",
    "print(\"FFT result:\")\n",
    "for i, val in enumerate(X):\n",
    "    print(f\"A[{i}] = {val}\")\n"
   ]
  },
  {
   "cell_type": "code",
   "execution_count": 19,
   "id": "73779571-679e-4c74-89f6-9b490e157345",
   "metadata": {},
   "outputs": [],
   "source": [
    "import sympy as sp\n",
    "\n",
    "def sym_twiddle(N, k):\n",
    "    \"\"\"Symbolic twiddle factor W_N^k = exp(-j*2π*k/N)\"\"\"\n",
    "    j = sp.I\n",
    "    return sp.exp(-2 * sp.pi * j * k / N)\n",
    "\n",
    "def fft_radix2_sym(x):\n",
    "    N = len(x)\n",
    "    assert (N & (N - 1) == 0) and N != 0, \"Length must be a power of 2\"\n",
    "    if N == 1:\n",
    "        return x\n",
    "\n",
    "    even = fft_radix2_sym(x[::2])\n",
    "    odd = fft_radix2_sym(x[1::2])\n",
    "    T = [sym_twiddle(N, k) * odd[k] for k in range(N // 2)]\n",
    "\n",
    "    return [even[k] + T[k] for k in range(N // 2)] + \\\n",
    "           [even[k] - T[k] for k in range(N // 2)]"
   ]
  },
  {
   "cell_type": "code",
   "execution_count": 20,
   "id": "3347886e-6664-4721-8542-9136e0104af4",
   "metadata": {},
   "outputs": [
    {
     "name": "stdout",
     "output_type": "stream",
     "text": [
      "X[0] = a + b + c + d\n",
      "X[1] = a - c + I*(-b + d)\n",
      "X[2] = a - b + c - d\n",
      "X[3] = a - c + I*(b - d)\n"
     ]
    }
   ],
   "source": [
    "a, b, c, d = sp.symbols('a b c d')\n",
    "x = [a, b, c, d]\n",
    "\n",
    "X = fft_radix2_sym(x)\n",
    "\n",
    "for i, expr in enumerate(X):\n",
    "    print(f'X[{i}] = {sp.simplify(expr)}')"
   ]
  },
  {
   "cell_type": "code",
   "execution_count": 21,
   "id": "c7d8e865-525e-4824-908e-480cf37b5764",
   "metadata": {},
   "outputs": [],
   "source": [
    "import sympy as sp\n",
    "\n",
    "def sym_twiddle(N, k):\n",
    "    j = sp.I\n",
    "    return sp.exp(-2 * sp.pi * j * k / N)\n",
    "\n",
    "def fft_radix2_sym_verbose(x, level=0):\n",
    "    N = len(x)\n",
    "    indent = \"  \" * level\n",
    "\n",
    "    if N == 1:\n",
    "        return x\n",
    "\n",
    "    # Split even and odd\n",
    "    even = fft_radix2_sym_verbose(x[::2], level + 1)\n",
    "    odd = fft_radix2_sym_verbose(x[1::2], level + 1)\n",
    "\n",
    "    # Compute and print butterfly combinations\n",
    "    X = [0] * N\n",
    "    for k in range(N // 2):\n",
    "        W = sym_twiddle(N, k)\n",
    "        t = W * odd[k]\n",
    "        X[k] = even[k] + t\n",
    "        X[k + N // 2] = even[k] - t\n",
    "\n",
    "        print(f\"{indent}Stage (N={N}) - Butterfly k={k}:\")\n",
    "        print(f\"{indent}  W_{N}^{k} = {sp.simplify(W)}\")\n",
    "        print(f\"{indent}  T = {W} * {odd[k]} = {sp.simplify(t)}\")\n",
    "        print(f\"{indent}  X[{k}] = {even[k]} + {sp.simplify(t)} = {sp.simplify(X[k])}\")\n",
    "        print(f\"{indent}  X[{k + N//2}] = {even[k]} - {sp.simplify(t)} = {sp.simplify(X[k + N//2])}\\n\")\n",
    "\n",
    "    return X"
   ]
  },
  {
   "cell_type": "code",
   "execution_count": 22,
   "id": "88330292-91fc-4818-8c5e-08423300b1e1",
   "metadata": {},
   "outputs": [
    {
     "name": "stdout",
     "output_type": "stream",
     "text": [
      "  Stage (N=2) - Butterfly k=0:\n",
      "    W_2^0 = 1\n",
      "    T = 1 * x2 = x2\n",
      "    X[0] = x0 + x2 = x0 + x2\n",
      "    X[1] = x0 - x2 = x0 - x2\n",
      "\n",
      "  Stage (N=2) - Butterfly k=0:\n",
      "    W_2^0 = 1\n",
      "    T = 1 * x3 = x3\n",
      "    X[0] = x1 + x3 = x1 + x3\n",
      "    X[1] = x1 - x3 = x1 - x3\n",
      "\n",
      "Stage (N=4) - Butterfly k=0:\n",
      "  W_4^0 = 1\n",
      "  T = 1 * x1 + x3 = x1 + x3\n",
      "  X[0] = x0 + x2 + x1 + x3 = x0 + x1 + x2 + x3\n",
      "  X[2] = x0 + x2 - x1 + x3 = x0 - x1 + x2 - x3\n",
      "\n",
      "Stage (N=4) - Butterfly k=1:\n",
      "  W_4^1 = -I\n",
      "  T = -I * x1 - x3 = I*(-x1 + x3)\n",
      "  X[1] = x0 - x2 + I*(-x1 + x3) = x0 - x2 + I*(-x1 + x3)\n",
      "  X[3] = x0 - x2 - I*(-x1 + x3) = x0 - x2 + I*(x1 - x3)\n",
      "\n",
      "Final FFT result:\n",
      "X[0] = x0 + x1 + x2 + x3\n",
      "X[1] = x0 - x2 + I*(-x1 + x3)\n",
      "X[2] = x0 - x1 + x2 - x3\n",
      "X[3] = x0 - x2 + I*(x1 - x3)\n"
     ]
    }
   ],
   "source": [
    "x0, x1, x2, x3 = sp.symbols('x0 x1 x2 x3')\n",
    "x = [x0, x1, x2, x3]\n",
    "X = fft_radix2_sym_verbose(x)\n",
    "\n",
    "print(\"Final FFT result:\")\n",
    "for i, xi in enumerate(X):\n",
    "    print(f\"X[{i}] = {sp.simplify(xi)}\")\n"
   ]
  },
  {
   "cell_type": "code",
   "execution_count": null,
   "id": "a70d486d-b535-479f-b1a9-97f43c9dd24f",
   "metadata": {},
   "outputs": [],
   "source": []
  },
  {
   "cell_type": "code",
   "execution_count": null,
   "id": "0b66a045-b256-453d-9cb3-5e03dcfb4402",
   "metadata": {},
   "outputs": [],
   "source": []
  },
  {
   "cell_type": "code",
   "execution_count": null,
   "id": "63b10fea-d026-4874-ab51-c2d6b6517390",
   "metadata": {},
   "outputs": [],
   "source": []
  }
 ],
 "metadata": {
  "kernelspec": {
   "display_name": "custom_python_kernel",
   "language": "python",
   "name": "custom_python_kernel"
  },
  "language_info": {
   "codemirror_mode": {
    "name": "ipython",
    "version": 3
   },
   "file_extension": ".py",
   "mimetype": "text/x-python",
   "name": "python",
   "nbconvert_exporter": "python",
   "pygments_lexer": "ipython3",
   "version": "3.11.11"
  }
 },
 "nbformat": 4,
 "nbformat_minor": 5
}
