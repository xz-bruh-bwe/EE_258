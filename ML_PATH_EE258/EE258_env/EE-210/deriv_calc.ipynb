{
 "cells": [
  {
   "cell_type": "code",
   "execution_count": 1,
   "id": "7458cacd-55b2-4cc5-9a0e-b5beb19013cd",
   "metadata": {},
   "outputs": [
    {
     "data": {
      "text/plain": [
       "'C:\\\\Users\\\\Baron\\\\Desktop\\\\EE_258_Repo\\\\EE_258\\\\ML_PATH_EE258\\\\EE258_env\\\\EE-210'"
      ]
     },
     "execution_count": 1,
     "metadata": {},
     "output_type": "execute_result"
    }
   ],
   "source": [
    "pwd"
   ]
  },
  {
   "cell_type": "markdown",
   "id": "dbc95505-b220-4ec5-83f1-b75d3e790251",
   "metadata": {},
   "source": [
    "### Derivative Calculator"
   ]
  },
  {
   "cell_type": "code",
   "execution_count": 150,
   "id": "3cfbb555-2d2c-4564-b162-44aaa5a611f0",
   "metadata": {},
   "outputs": [
    {
     "name": "stdout",
     "output_type": "stream",
     "text": [
      "-16*pi**2*a*f/(a**2 + 4*pi**2*f**2)**2\n"
     ]
    },
    {
     "data": {
      "text/latex": [
       "$\\displaystyle - \\frac{16 \\pi^{2} a f}{\\left(a^{2} + 4 \\pi^{2} f^{2}\\right)^{2}}$"
      ],
      "text/plain": [
       "-16*pi**2*a*f/(a**2 + 4*pi**2*f**2)**2"
      ]
     },
     "execution_count": 150,
     "metadata": {},
     "output_type": "execute_result"
    }
   ],
   "source": [
    "from sympy import symbols, diff, pi, pprint\n",
    "\n",
    "\n",
    "# Define symbols\n",
    "a, f = symbols('a f')\n",
    "\n",
    "# Define the expression\n",
    "expr = (2 * a) / (a**2 + (2 * pi * f)**2)\n",
    "#expr2 = -16*pi**2*a*f/(a**2 + 4*pi**2*f**2)**2\n",
    "\n",
    "# First derivative\n",
    "d1 = diff(expr, f)\n",
    "\n",
    "# Second derivative\n",
    "d2 = diff(expr, f, 2)\n",
    "\n",
    "# Third derivative\n",
    "d3 = diff(expr, f, 3)\n",
    "\n",
    "print(d1)\n",
    "\n",
    "d1"
   ]
  },
  {
   "cell_type": "code",
   "execution_count": 168,
   "id": "22d74e6b-ff91-4ddc-bed2-196d8279b14b",
   "metadata": {},
   "outputs": [
    {
     "data": {
      "text/latex": [
       "$\\displaystyle \\frac{16 \\pi^{2} a \\left(\\frac{16 \\pi^{2} f^{2}}{a^{2} + 4 \\pi^{2} f^{2}} - 1\\right)}{\\left(a^{2} + 4 \\pi^{2} f^{2}\\right)^{2}}$"
      ],
      "text/plain": [
       "16*pi**2*a*(16*pi**2*f**2/(a**2 + 4*pi**2*f**2) - 1)/(a**2 + 4*pi**2*f**2)**2"
      ]
     },
     "execution_count": 168,
     "metadata": {},
     "output_type": "execute_result"
    }
   ],
   "source": [
    "d2\n"
   ]
  },
  {
   "cell_type": "code",
   "execution_count": 166,
   "id": "fb13c860-0189-4f6e-b77a-0c9a0f3bf9e7",
   "metadata": {},
   "outputs": [
    {
     "name": "stdout",
     "output_type": "stream",
     "text": [
      "      2 \n",
      "-16*pi  \n",
      "--------\n",
      "    3   \n",
      "   a    \n"
     ]
    }
   ],
   "source": [
    "# Substitute values: a = 1, f = 2\n",
    "evaluated = d2.subs({f: 0})\n",
    "\n",
    "# Optionally, get a floating point value\n",
    "evaluated_float = evaluated.evalf()\n",
    "\n",
    "pprint(evaluated, use_unicode=False)"
   ]
  },
  {
   "cell_type": "code",
   "execution_count": 154,
   "id": "3607c831-f684-46e4-b8b8-03580974cfe5",
   "metadata": {},
   "outputs": [
    {
     "data": {
      "text/latex": [
       "$\\displaystyle - \\frac{768 \\pi^{4} a f \\left(\\frac{8 \\pi^{2} f^{2}}{a^{2} + 4 \\pi^{2} f^{2}} - 1\\right)}{\\left(a^{2} + 4 \\pi^{2} f^{2}\\right)^{3}}$"
      ],
      "text/plain": [
       "-768*pi**4*a*f*(8*pi**2*f**2/(a**2 + 4*pi**2*f**2) - 1)/(a**2 + 4*pi**2*f**2)**3"
      ]
     },
     "execution_count": 154,
     "metadata": {},
     "output_type": "execute_result"
    }
   ],
   "source": [
    "d3"
   ]
  },
  {
   "cell_type": "code",
   "execution_count": null,
   "id": "4cd29b72-fdfa-46d1-9b08-9cc870a0d15c",
   "metadata": {},
   "outputs": [],
   "source": []
  }
 ],
 "metadata": {
  "kernelspec": {
   "display_name": "Python [conda env:base] *",
   "language": "python",
   "name": "conda-base-py"
  },
  "language_info": {
   "codemirror_mode": {
    "name": "ipython",
    "version": 3
   },
   "file_extension": ".py",
   "mimetype": "text/x-python",
   "name": "python",
   "nbconvert_exporter": "python",
   "pygments_lexer": "ipython3",
   "version": "3.11.11"
  }
 },
 "nbformat": 4,
 "nbformat_minor": 5
}
