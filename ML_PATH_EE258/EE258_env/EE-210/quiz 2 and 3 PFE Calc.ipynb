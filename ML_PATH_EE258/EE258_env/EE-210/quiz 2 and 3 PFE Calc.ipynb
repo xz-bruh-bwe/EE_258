{
 "cells": [
  {
   "cell_type": "code",
   "execution_count": 7,
   "id": "8f5cf7ce-030a-4f63-adb0-ce0887a09c96",
   "metadata": {},
   "outputs": [
    {
     "data": {
      "text/plain": [
       "'C:\\\\Users\\\\Baron\\\\Desktop\\\\EE_258_Repo\\\\EE_258\\\\ML_PATH_EE258\\\\EE258_env\\\\EE-210'"
      ]
     },
     "execution_count": 7,
     "metadata": {},
     "output_type": "execute_result"
    }
   ],
   "source": [
    "pwd"
   ]
  },
  {
   "cell_type": "markdown",
   "id": "a5c9e7e3-0dd7-4415-8e8a-47a4050c83a2",
   "metadata": {},
   "source": [
    "### PFE Calculator 1\n"
   ]
  },
  {
   "cell_type": "code",
   "execution_count": 1,
   "id": "5c5debea-1064-4122-8ba1-6cbf38f8ccb3",
   "metadata": {},
   "outputs": [
    {
     "data": {
      "image/png": "[encoded data removed]",
      "text/latex": [
       "$\\displaystyle \\frac{2 - \\frac{0.166666666666667}{z}}{\\left(1 - \\frac{0.5}{z}\\right) \\left(1 - \\frac{0.333333333333333}{z}\\right)}$"
      ],
      "text/plain": [
       "          0.166666666666667      \n",
       "      2 - ─────────────────      \n",
       "                  z              \n",
       "─────────────────────────────────\n",
       "⎛    0.5⎞ ⎛    0.333333333333333⎞\n",
       "⎜1 - ───⎟⋅⎜1 - ─────────────────⎟\n",
       "⎝     z ⎠ ⎝            z        ⎠"
      ]
     },
     "execution_count": 1,
     "metadata": {},
     "output_type": "execute_result"
    }
   ],
   "source": [
    "import sympy as sp\n",
    "\n",
    "from prettytable import PrettyTable\n",
    "\n",
    "# Enable pretty printing\n",
    "sp.init_printing()\n",
    "\n",
    "\n",
    "# Define symbolic variables\n",
    "z = sp.Symbol('z')\n",
    "z_inv = sp.Symbol('z_inv')\n",
    "\n",
    "\n",
    "# Define H(z⁻¹) using plain Python fractions\n",
    "H_zinv = (2 - (1/6) * z**(-1)) / ((1 - (1/2) * z**(-1)) * (1 - (1/3) * z**(-1)))\n",
    "# Define H(z⁻¹) using normal Python-style fractions\n",
    "#H_zinv = ((4/3) + (2/3) * z**(-1)) / ((1 - z**(-1)) * (1 + (1/2) * z**(-1)))\n",
    "\n",
    "#H_zinv = ((-2/3) * z**(-1)) / ((1 - (1/3) * z**(-1)) * (1 + (3/4) * z**(-1)))\n",
    "#H_zinv = (1+(-1) * z**(-2)) / ((1 - (1/2) * z**(-1)) * (1 + (2) * z**(-1)))\n",
    "\n",
    "### H0 H1 H2\n",
    "#H_zinv = (1 + z**-1 + z**-2) / (1 + (1/6)*z**-1 + (1/6)*z**-2)\n",
    "\n",
    "\n",
    "H_zinv"
   ]
  },
  {
   "cell_type": "code",
   "execution_count": 3,
   "id": "95f82e76-0512-4a62-9812-9d3e80ef4d93",
   "metadata": {},
   "outputs": [
    {
     "data": {
      "image/png": "[encoded data removed]",
      "text/latex": [
       "$\\displaystyle \\frac{5.0}{-1.0 + \\frac{0.5}{z}} - \\frac{3.0}{-1.0 + \\frac{0.333333333333333}{z}}$"
      ],
      "text/plain": [
       "   5.0                 3.0           \n",
       "────────── - ────────────────────────\n",
       "       0.5          0.333333333333333\n",
       "-1.0 + ───   -1.0 + ─────────────────\n",
       "        z                   z        "
      ]
     },
     "execution_count": 3,
     "metadata": {},
     "output_type": "execute_result"
    }
   ],
   "source": [
    "# Define variables\n",
    "z = sp.Symbol('z')\n",
    "u = sp.Symbol('u')  # u = z⁻¹\n",
    "\n",
    "# Original transfer function H(z⁻¹)\n",
    "\n",
    "# Substitute u = z⁻¹ to make it rational in u\n",
    "H_u = H_zinv.subs(1/z, u)\n",
    "\n",
    "# Perform partial fraction expansion in u\n",
    "H_u_pfe = sp.apart(H_u, u)\n",
    "\n",
    "# Substitute back u = 1/z to return to z⁻¹ form (optional)\n",
    "H_zinv_pfe = H_u_pfe.subs(u, 1/z)\n",
    "H_zinv_pfe*-1"
   ]
  },
  {
   "cell_type": "code",
   "execution_count": 1,
   "id": "31e7b78a-e0f5-4c6c-a460-1708adf90b06",
   "metadata": {},
   "outputs": [
    {
     "name": "stdout",
     "output_type": "stream",
     "text": [
      "Decimal: 0.87\n",
      "Fraction approximation: 87/100 (≈ 0.87)\n"
     ]
    }
   ],
   "source": [
    "from fractions import Fraction\n",
    "\n",
    "def decimal_to_fraction(decimal_value, max_denominator=1000000):\n",
    "    \"\"\"\n",
    "    Approximate a decimal number with a fraction.\n",
    "\n",
    "    Args:\n",
    "        decimal_value (float or str): The decimal number to convert.\n",
    "        max_denominator (int): The maximum allowed denominator for the approximation.\n",
    "\n",
    "    Returns:\n",
    "        Fraction: The simplified fraction approximation.\n",
    "    \"\"\"\n",
    "    frac = Fraction(decimal_value).limit_denominator(max_denominator)\n",
    "    return frac\n",
    "\n",
    "# Example usage:\n",
    "decimal_number = .87\n",
    "fraction_approx = decimal_to_fraction(decimal_number)\n",
    "print(f\"Decimal: {decimal_number}\")\n",
    "print(f\"Fraction approximation: {fraction_approx} (≈ {float(fraction_approx)})\")"
   ]
  },
  {
   "cell_type": "markdown",
   "id": "9df08aac-b458-44c8-86b3-5e44d5a62c2f",
   "metadata": {},
   "source": [
    "### PFE 2 H0 H1 H2 "
   ]
  },
  {
   "cell_type": "code",
   "execution_count": 43,
   "id": "4e9286b5-e48d-4360-995a-a562736962ca",
   "metadata": {},
   "outputs": [
    {
     "data": {
      "image/png": "[encoded data removed]",
      "text/latex": [
       "$\\displaystyle \\frac{1 + \\frac{1}{z} + \\frac{1}{z^{2}}}{1 + \\frac{0.166666666666667}{z} + \\frac{0.166666666666667}{z^{2}}}$"
      ],
      "text/plain": [
       "                   1   1                 \n",
       "               1 + ─ + ──                \n",
       "                   z    2                \n",
       "                       z                 \n",
       "─────────────────────────────────────────\n",
       "    0.166666666666667   0.166666666666667\n",
       "1 + ───────────────── + ─────────────────\n",
       "            z                   2        \n",
       "                               z         "
      ]
     },
     "execution_count": 43,
     "metadata": {},
     "output_type": "execute_result"
    }
   ],
   "source": [
    "import sympy as sp\n",
    "\n",
    "from prettytable import PrettyTable\n",
    "\n",
    "# Enable pretty printing\n",
    "sp.init_printing()\n",
    "\n",
    "\n",
    "# Define symbolic variables\n",
    "z = sp.Symbol('z')\n",
    "z_inv = sp.Symbol('z_inv')\n",
    "\n",
    "\n",
    "# Define H(z⁻¹) using plain Python fractions\n",
    "#H_zinv = (2 - (1/6) * z**(-1)) / ((1 - (1/2) * z**(-1)) * (1 - (1/3) * z**(-1)))\n",
    "# Define H(z⁻¹) using normal Python-style fractions\n",
    "#H_zinv = ((4/3) + (2/3) * z**(-1)) / ((1 - z**(-1)) * (1 + (1/2) * z**(-1)))\n",
    "\n",
    "#H_zinv = ((-2/3) * z**(-1)) / ((1 - (1/3) * z**(-1)) * (1 + (3/4) * z**(-1)))\n",
    "#H_zinv = (1+(-1) * z**(-2)) / ((1 - (1/2) * z**(-1)) * (1 + (2) * z**(-1)))\n",
    "\n",
    "H_zinv = (1 + z**-1 + z**-2) / (1 + (1/6)*z**-1 + (1/6)*z**-2)\n",
    "\n",
    "\n",
    "H_zinv"
   ]
  },
  {
   "cell_type": "code",
   "execution_count": 67,
   "id": "7f077b05-a201-4532-a434-15719f2ecd89",
   "metadata": {},
   "outputs": [
    {
     "data": {
      "image/png": "[encoded data removed]",
      "text/latex": [
       "$\\displaystyle 6.0 - \\frac{5.0}{1.0 + \\frac{0.166666666666667}{z} + \\frac{0.166666666666667}{z^{2}}}$"
      ],
      "text/plain": [
       "                          5.0                    \n",
       "6.0 - ───────────────────────────────────────────\n",
       "            0.166666666666667   0.166666666666667\n",
       "      1.0 + ───────────────── + ─────────────────\n",
       "                    z                   2        \n",
       "                                       z         "
      ]
     },
     "execution_count": 67,
     "metadata": {},
     "output_type": "execute_result"
    }
   ],
   "source": [
    "# Yileds Leading coeff \n",
    "# Define variables\n",
    "z = sp.Symbol('z')\n",
    "u = sp.Symbol('u')  # u = z⁻¹\n",
    "\n",
    "# Original transfer function H(z⁻¹)\n",
    "\n",
    "# Substitute u = z⁻¹ to make it rational in u\n",
    "H_u = H_zinv.subs(1/z, u)\n",
    "\n",
    "# Perform partial fraction expansion in u\n",
    "H_u_pfe = sp.apart(H_u, u)\n",
    "\n",
    "# Substitute back u = 1/z to return to z⁻¹ form (optional)\n",
    "H_zinv_pfe = H_u_pfe.subs(u, 1/z)\n",
    "\n",
    "H_zinv_pfe"
   ]
  },
  {
   "cell_type": "code",
   "execution_count": 78,
   "id": "c58aea2d-738c-4aec-af6b-b5db853f863a",
   "metadata": {},
   "outputs": [
    {
     "name": "stdout",
     "output_type": "stream",
     "text": [
      "Zeros in z⁻¹ domain:\n",
      "-0.5 - 2.39791576165636⋅ⅈ\n",
      "-0.5 + 2.39791576165636⋅ⅈ\n",
      "\n",
      "Corresponding zeros in z domain:\n",
      "-0.0833333333333333 + 0.399652626942727⋅ⅈ\n",
      "-0.0833333333333333 - 0.399652626942727⋅ⅈ\n"
     ]
    },
    {
     "data": {
      "image/png": "[encoded data removed]",
      "text/latex": [
       "$\\displaystyle \\left( \\left[ -0.5 - 2.39791576165636 i, \\  -0.5 + 2.39791576165636 i\\right], \\  \\left[ 0.166666666666667 \\left(-0.5 + 2.39791576165636 i\\right), \\  0.166666666666667 \\left(-0.5 - 2.39791576165636 i\\right)\\right]\\right)$"
      ],
      "text/plain": [
       "([-0.5 - 2.39791576165636⋅ⅈ, -0.5 + 2.39791576165636⋅ⅈ], [0.166666666666667⋅(-0.5 + 2.39791576165636⋅ⅈ), 0.16666666666 ↪\n",
       "\n",
       "↪ 6667⋅(-0.5 - 2.39791576165636⋅ⅈ)])"
      ]
     },
     "execution_count": 78,
     "metadata": {},
     "output_type": "execute_result"
    }
   ],
   "source": [
    "def find_zeros_and_convert():\n",
    "    u = sp.Symbol('u')  # u = z⁻¹\n",
    "    z = sp.Symbol('z')\n",
    "\n",
    "    # Define the polynomial in z⁻¹ (i.e., u)\n",
    "    poly = 1 + (1/6)*u + (1/6)*u**2\n",
    "\n",
    "    # Find zeros in z⁻¹\n",
    "    zeros_zinv = sp.solve(poly, u)\n",
    "\n",
    "    print(\"Zeros in z⁻¹ domain:\")\n",
    "    for root in zeros_zinv:\n",
    "        sp.pprint(root, use_unicode=True)\n",
    "\n",
    "    # Convert to z-domain using z = 1 / u\n",
    "    zeros_z = [1 / root for root in zeros_zinv]\n",
    "\n",
    "    print(\"\\nCorresponding zeros in z domain:\")\n",
    "    for root in zeros_z:\n",
    "        sp.pprint(sp.simplify(root), use_unicode=True)\n",
    "\n",
    "    return zeros_zinv, zeros_z\n",
    "\n",
    "# Run the function\n",
    "find_zeros_and_convert()"
   ]
  },
  {
   "cell_type": "code",
   "execution_count": 71,
   "id": "b536e0f8-ddab-4545-b594-a93fede86e68",
   "metadata": {},
   "outputs": [
    {
     "data": {
      "image/png": "[encoded data removed]",
      "text/latex": [
       "$\\displaystyle \\frac{5}{1 + \\frac{0.166666666666667}{z} + \\frac{0.166666666666667}{z^{2}}}$"
      ],
      "text/plain": [
       "                    5                    \n",
       "─────────────────────────────────────────\n",
       "    0.166666666666667   0.166666666666667\n",
       "1 + ───────────────── + ─────────────────\n",
       "            z                   2        \n",
       "                               z         "
      ]
     },
     "execution_count": 71,
     "metadata": {},
     "output_type": "execute_result"
    }
   ],
   "source": [
    "#################################\n",
    "from prettytable import PrettyTable\n",
    "\n",
    "# Enable pretty printing\n",
    "sp.init_printing()\n",
    "\n",
    "\n",
    "# Define symbolic variables\n",
    "z = sp.Symbol('z')\n",
    "z_inv = sp.Symbol('z_inv')\n",
    "\n",
    "\n",
    "# Define H(z⁻¹) using plain Python fractions\n",
    "#H_zinv = (2 - (1/6) * z**(-1)) / ((1 - (1/2) * z**(-1)) * (1 - (1/3) * z**(-1)))\n",
    "# Define H(z⁻¹) using normal Python-style fractions\n",
    "#H_zinv = ((4/3) + (2/3) * z**(-1)) / ((1 - z**(-1)) * (1 + (1/2) * z**(-1)))\n",
    "\n",
    "#H_zinv = ((-2/3) * z**(-1)) / ((1 - (1/3) * z**(-1)) * (1 + (3/4) * z**(-1)))\n",
    "#H_zinv = (1+(-1) * z**(-2)) / ((1 - (1/2) * z**(-1)) * (1 + (2) * z**(-1)))\n",
    "\n",
    "H_zinv = (5) / (1 + (1/6)*z**-1 + (1/6)*z**-2)\n",
    "\n",
    "\n",
    "H_zinv"
   ]
  },
  {
   "cell_type": "code",
   "execution_count": 73,
   "id": "c73de2cd-8c62-4919-b2e9-3bb6f0fd9a87",
   "metadata": {},
   "outputs": [
    {
     "data": {
      "image/png": "[encoded data removed]",
      "text/latex": [
       "$\\displaystyle \\frac{5.0}{1.0 + \\frac{0.166666666666667}{z} + \\frac{0.166666666666667}{z^{2}}}$"
      ],
      "text/plain": [
       "                    5.0                    \n",
       "───────────────────────────────────────────\n",
       "      0.166666666666667   0.166666666666667\n",
       "1.0 + ───────────────── + ─────────────────\n",
       "              z                   2        \n",
       "                                 z         "
      ]
     },
     "execution_count": 73,
     "metadata": {},
     "output_type": "execute_result"
    }
   ],
   "source": [
    "# Define variables\n",
    "z = sp.Symbol('z')\n",
    "u = sp.Symbol('u')  # u = z⁻¹\n",
    "\n",
    "# Original transfer function H(z⁻¹)\n",
    "\n",
    "# Substitute u = z⁻¹ to make it rational in u\n",
    "H_u = H_zinv.subs(1/z, u)\n",
    "\n",
    "# Perform partial fraction expansion in u\n",
    "H_u_pfe = sp.apart(H_u, u)\n",
    "\n",
    "# Substitute back u = 1/z to return to z⁻¹ form (optional)\n",
    "H_zinv_pfe = H_u_pfe.subs(u, 1/z)\n",
    "H_zinv_pfe"
   ]
  },
  {
   "cell_type": "code",
   "execution_count": null,
   "id": "15454a5c-3916-4e0b-8564-98d6fae8f6a7",
   "metadata": {},
   "outputs": [],
   "source": []
  }
 ],
 "metadata": {
  "kernelspec": {
   "display_name": "custom_python_kernel",
   "language": "python",
   "name": "custom_python_kernel"
  },
  "language_info": {
   "codemirror_mode": {
    "name": "ipython",
    "version": 3
   },
   "file_extension": ".py",
   "mimetype": "text/x-python",
   "name": "python",
   "nbconvert_exporter": "python",
   "pygments_lexer": "ipython3",
   "version": "3.11.11"
  }
 },
 "nbformat": 4,
 "nbformat_minor": 5
}
