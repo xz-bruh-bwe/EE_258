{
 "cells": [
  {
   "cell_type": "code",
   "execution_count": 1,
   "id": "3458b4cd-fca5-422e-81b5-86714d79a151",
   "metadata": {},
   "outputs": [
    {
     "data": {
      "text/plain": [
       "'C:\\\\Users\\\\Baron\\\\Desktop\\\\EE_258_Repo\\\\EE_258\\\\ML_PATH_EE258\\\\EE258_env\\\\EE-210'"
      ]
     },
     "execution_count": 1,
     "metadata": {},
     "output_type": "execute_result"
    }
   ],
   "source": [
    "pwd"
   ]
  },
  {
   "cell_type": "markdown",
   "id": "432287d6-680b-44cd-b6e0-9f0015f72745",
   "metadata": {},
   "source": [
    "### Period Finder"
   ]
  },
  {
   "cell_type": "code",
   "execution_count": 32,
   "id": "c781fd3c-580b-4818-ad8d-0161a4e73e4d",
   "metadata": {},
   "outputs": [
    {
     "name": "stdout",
     "output_type": "stream",
     "text": [
      "Fundamental Period N = 30\n"
     ]
    }
   ],
   "source": [
    "from fractions import Fraction\n",
    "from math import lcm\n",
    "\n",
    "def find_period(frequencies):\n",
    "    # Convert frequencies to Fractions and compute individual periods\n",
    "    periods = []\n",
    "    for f in frequencies:\n",
    "        frac = Fraction(f).limit_denominator()\n",
    "        periods.append(frac.denominator)\n",
    "    \n",
    "    # Compute the least common multiple of all denominators\n",
    "    fundamental_period = periods[0]\n",
    "    for p in periods[1:]:\n",
    "        fundamental_period = lcm(fundamental_period, p)\n",
    "\n",
    "    return fundamental_period\n",
    "\n",
    "# Example: frequencies from e^{jπn/5}, e^{j2πn/3}, e^{jπn}\n",
    "frequencies = [1/10, 1/3, 1/2]  # Corresponds to π/5 = 2π/10, 2π/3, π = 2π/2\n",
    "\n",
    "period = find_period(frequencies)\n",
    "print(f\"Fundamental Period N = {period}\")"
   ]
  },
  {
   "cell_type": "code",
   "execution_count": 1,
   "id": "6db26b48-be02-4471-9d50-db3a3ed35637",
   "metadata": {},
   "outputs": [
    {
     "name": "stdout",
     "output_type": "stream",
     "text": [
      "Part (a): x[n] = e^{j(2πn/5)}\n",
      "=> Periodic: True\n",
      "=> Smallest N: 5, Corresponding k: 1\n",
      "\n",
      "Part (b): x[n] = sin(πn/19)\n",
      "=> Periodic: True\n",
      "=> Smallest N: 38, Corresponding k: 1\n"
     ]
    }
   ],
   "source": [
    "import numpy as np\n",
    "from fractions import Fraction\n",
    "from math import gcd\n",
    "\n",
    "def find_period(omega):\n",
    "    \"\"\"\n",
    "    Find the fundamental period N for a given frequency ω (in radians)\n",
    "    such that ωN = 2πk for some integer k.\n",
    "    Returns (is_periodic, N, k)\n",
    "    \"\"\"\n",
    "    ratio = Fraction(omega / (2 * np.pi)).limit_denominator()\n",
    "    k = ratio.numerator\n",
    "    N = ratio.denominator\n",
    "    is_periodic = True  # Always periodic if ratio is rational\n",
    "    return is_periodic, N, k\n",
    "\n",
    "# --- Part (a): x[n] = e^{j(2πn/5)} ---\n",
    "print(\"Part (a): x[n] = e^{j(2πn/5)}\")\n",
    "omega_a = 2 * np.pi / 5\n",
    "periodic_a, N_a, k_a = find_period(omega_a)\n",
    "print(f\"=> Periodic: {periodic_a}\")\n",
    "print(f\"=> Smallest N: {N_a}, Corresponding k: {k_a}\")\n",
    "\n",
    "# --- Part (b): x[n] = sin(πn/19) ---\n",
    "print(\"\\nPart (b): x[n] = sin(πn/19)\")\n",
    "omega_b = np.pi / 19\n",
    "# For real sinusoids, need 2πk = ωN ⇒ use same logic\n",
    "periodic_b, N_b, k_b = find_period(omega_b)\n",
    "print(f\"=> Periodic: {periodic_b}\")\n",
    "print(f\"=> Smallest N: {N_b}, Corresponding k: {k_b}\")\n"
   ]
  },
  {
   "cell_type": "code",
   "execution_count": 9,
   "id": "5be4f1e1-c153-4762-8543-ebaf0efd02f4",
   "metadata": {},
   "outputs": [
    {
     "name": "stdout",
     "output_type": "stream",
     "text": [
      "Enter a discrete-time signal (e.g., sin(pi*n/19), cos(pi*n/2), exp(1j*2*pi*n/5)):\n"
     ]
    },
    {
     "name": "stdin",
     "output_type": "stream",
     "text": [
      "Expression:  cos(pi*n/19)\n"
     ]
    },
    {
     "name": "stdout",
     "output_type": "stream",
     "text": [
      "\n",
      "Parsed ω: 0.16535 rad/sample\n",
      "Periodic: True\n",
      "Smallest period N: 38, with integer k = 1\n"
     ]
    }
   ],
   "source": [
    "from sympy import symbols, pi, sin, cos, exp, arg, simplify, fraction\n",
    "from sympy.parsing.sympy_parser import parse_expr\n",
    "from fractions import Fraction\n",
    "\n",
    "# Define symbols\n",
    "n = symbols('n')\n",
    "\n",
    "def extract_omega_sympy(expr_str):\n",
    "    expr = parse_expr(expr_str, evaluate=False)\n",
    "\n",
    "    # Extract argument of sin, cos, or exp\n",
    "    if expr.func in [sin, cos, exp]:\n",
    "        arg_expr = expr.args[0]\n",
    "    else:\n",
    "        raise ValueError(\"Expression must be sin(...), cos(...), or exp(...).\")\n",
    "\n",
    "    # Try to isolate omega * n\n",
    "    arg_expr = simplify(arg_expr)\n",
    "    omega_expr = arg_expr.coeff(n)\n",
    "    return float(omega_expr)\n",
    "\n",
    "def find_discrete_period(omega):\n",
    "    \"\"\"\n",
    "    Finds the smallest positive integers N and k such that ωN = 2πk\n",
    "    \"\"\"\n",
    "    try:\n",
    "        ratio = Fraction(omega / (2 * float(pi))).limit_denominator()\n",
    "        k = ratio.numerator\n",
    "        N = ratio.denominator\n",
    "        return True, N, k\n",
    "    except:\n",
    "        return False, None, None\n",
    "\n",
    "# ----------- Main -----------\n",
    "if __name__ == \"__main__\":\n",
    "    print(\"Enter a discrete-time signal (e.g., sin(pi*n/19), cos(pi*n/2), exp(1j*2*pi*n/5)):\")\n",
    "    expr_input = input(\"Expression: \")\n",
    "\n",
    "    try:\n",
    "        omega = extract_omega_sympy(expr_input)\n",
    "        is_periodic, N, k = find_discrete_period(omega)\n",
    "\n",
    "        print(f\"\\nParsed ω: {omega:.5f} rad/sample\")\n",
    "        print(f\"Periodic: {is_periodic}\")\n",
    "        if is_periodic:\n",
    "            print(f\"Smallest period N: {N}, with integer k = {k}\")\n",
    "    except Exception as e:\n",
    "        print(f\"\\nError: {e}\")\n"
   ]
  },
  {
   "cell_type": "code",
   "execution_count": null,
   "id": "f3c24c8c-4aeb-4d35-ad84-cc3ec6db6a36",
   "metadata": {},
   "outputs": [],
   "source": []
  }
 ],
 "metadata": {
  "kernelspec": {
   "display_name": "custom_python_kernel",
   "language": "python",
   "name": "custom_python_kernel"
  },
  "language_info": {
   "codemirror_mode": {
    "name": "ipython",
    "version": 3
   },
   "file_extension": ".py",
   "mimetype": "text/x-python",
   "name": "python",
   "nbconvert_exporter": "python",
   "pygments_lexer": "ipython3",
   "version": "3.11.11"
  }
 },
 "nbformat": 4,
 "nbformat_minor": 5
}
