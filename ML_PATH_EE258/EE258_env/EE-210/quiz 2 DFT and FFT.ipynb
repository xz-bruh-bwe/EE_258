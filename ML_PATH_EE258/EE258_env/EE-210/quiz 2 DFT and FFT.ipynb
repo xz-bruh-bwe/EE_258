{
 "cells": [
  {
   "cell_type": "code",
   "execution_count": 1,
   "id": "eeff663e-7fcd-40da-be47-9024ea6d060e",
   "metadata": {},
   "outputs": [
    {
     "data": {
      "text/plain": [
       "'C:\\\\Users\\\\Baron\\\\Desktop\\\\EE_258_Repo\\\\EE_258\\\\ML_PATH_EE258\\\\EE258_env\\\\EE-210'"
      ]
     },
     "execution_count": 1,
     "metadata": {},
     "output_type": "execute_result"
    }
   ],
   "source": [
    "pwd "
   ]
  },
  {
   "cell_type": "markdown",
   "id": "81945f9f-d1f4-401a-83e7-f6939c0a6aaa",
   "metadata": {},
   "source": [
    "DFT \n",
    "𝑋\n",
    "(\n",
    "𝑘\n",
    ")\n",
    "X(k)\n",
    "\n",
    "X(k)= \n",
    "n=0\n",
    "∑\n",
    "N−1\n",
    "​\n",
    " x[n]⋅e \n",
    "−j \n",
    "N\n",
    "2π\n",
    "​\n",
    " kn"
   ]
  },
  {
   "cell_type": "code",
   "execution_count": 3,
   "id": "eb896639-3289-4ff5-bca9-96c6fc864cff",
   "metadata": {},
   "outputs": [
    {
     "name": "stdout",
     "output_type": "stream",
     "text": [
      "X(k) in rectangular form:\n",
      "X[0] = 2.00 + 0.00j\n",
      "X[1] = 0.50 + -0.87j\n",
      "X[2] = 0.50 + 0.87j\n",
      "\n",
      "X(k) in polar form:\n",
      "X[0] = 2.00 ∠ 0.00°\n",
      "X[1] = 1.00 ∠ -60.00°\n",
      "X[2] = 1.00 ∠ 60.00°\n"
     ]
    }
   ],
   "source": [
    "import numpy as np\n",
    "\n",
    "def compute_dft(x, N=None):\n",
    "    \"\"\"\n",
    "    Compute the DFT X[k] for a signal x[n] of length N.\n",
    "    \n",
    "    Parameters:\n",
    "    x (list or np.array): Time-domain samples x[n]\n",
    "    N (int): Period or length of DFT (defaults to len(x))\n",
    "    \n",
    "    Returns:\n",
    "    np.array: DFT X[k]\n",
    "    \"\"\"\n",
    "    x = np.asarray(x, dtype=complex)\n",
    "    if N is None:\n",
    "        N = len(x)\n",
    "    else:\n",
    "        # Zero-padding if needed\n",
    "        if len(x) < N:\n",
    "            x = np.pad(x, (0, N - len(x)), 'constant')\n",
    "        else:\n",
    "            x = x[:N]  # truncate if longer\n",
    "\n",
    "    X = np.zeros(N, dtype=complex)\n",
    "    for k in range(N):\n",
    "        for n in range(N):\n",
    "            X[k] += x[n] * np.exp(-2j * np.pi * k * n / N)\n",
    "    return X\n",
    "\n",
    "def print_rectangular(X):\n",
    "    \"\"\"\n",
    "    Print DFT results in rectangular form line by line.\n",
    "    \n",
    "    Parameters:\n",
    "    X (np.array): DFT result X[k]\n",
    "    \"\"\"\n",
    "    print(\"X(k) in rectangular form:\")\n",
    "    for k, val in enumerate(X):\n",
    "        real = val.real\n",
    "        imag = val.imag\n",
    "        print(f\"X[{k}] = {real:.2f} + {imag:.2f}j\")\n",
    "\n",
    "def print_polar(X):\n",
    "    \"\"\"\n",
    "    Print DFT results in polar form line by line.\n",
    "    \n",
    "    Parameters:\n",
    "    X (np.array): DFT result X[k]\n",
    "    \"\"\"\n",
    "    print(\"\\nX(k) in polar form:\")\n",
    "    for k, val in enumerate(X):\n",
    "        magnitude = np.abs(val)\n",
    "        angle_deg = np.degrees(np.angle(val))\n",
    "        print(f\"X[{k}] = {magnitude:.2f} ∠ {angle_deg:.2f}°\")\n",
    "\n",
    "# Example: Signal x[n] as shown in the image\n",
    "#x = [1,0,1,0,0,0,0,0,1]  # periodic signal with period N = 8\n",
    "x = [1, 1, 0]  # periodic signal with period N = 8\n",
    "#Period\n",
    "N = 3\n",
    "\n",
    "X_k = compute_dft(x, N)\n",
    "\n",
    "# Show rectangular and polar forms\n",
    "print_rectangular(X_k)\n",
    "print_polar(X_k)\n"
   ]
  },
  {
   "cell_type": "code",
   "execution_count": 7,
   "id": "f001fead-5d4c-4a19-b618-b9cc8b96b2be",
   "metadata": {},
   "outputs": [],
   "source": [
    "import numpy as np\n",
    "\n",
    "\n",
    "import numpy as np\n",
    "\n",
    "def twiddle(N, k):\n",
    "    \"\"\"\n",
    "    Compute the twiddle factor W_N^k = exp(-j * 2π * k / N)\n",
    "    \"\"\"\n",
    "    return np.exp(-2j * np.pi * k / N)\n",
    "\n",
    "def fft_radix2(x):\n",
    "    \"\"\"\n",
    "    Recursive radix-2 DIT FFT implementation using twiddle() helper.\n",
    "    Input:  x (list or np.array) of length N = 2^n\n",
    "    Output: FFT of x (as a list of complex numbers)\n",
    "    \"\"\"\n",
    "    N = len(x)\n",
    "    if N <= 1:\n",
    "        return x\n",
    "    if N % 2 != 0:\n",
    "        raise ValueError(\"Input length must be a power of 2\")\n",
    "\n",
    "    # Divide: even and odd index samples\n",
    "    even = fft_radix2(x[0::2])\n",
    "    odd  = fft_radix2(x[1::2])\n",
    "\n",
    "    # Combine using twiddle factors\n",
    "    T = [twiddle(N, k) * odd[k] for k in range(N // 2)]\n",
    "    \n",
    "    return [even[k] + T[k] for k in range(N // 2)] + \\\n",
    "           [even[k] - T[k] for k in range(N // 2)]"
   ]
  },
  {
   "cell_type": "code",
   "execution_count": 11,
   "id": "80d270f9-0cf4-4913-8e79-44bbf6034851",
   "metadata": {},
   "outputs": [
    {
     "name": "stdout",
     "output_type": "stream",
     "text": [
      "FFT result:\n",
      "A[0] = (4+0j)\n",
      "A[1] = (1.9999999999999998+2j)\n",
      "A[2] = 0j\n",
      "A[3] = (2-2j)\n"
     ]
    }
   ],
   "source": [
    "x = [2, 0, 0, 2]  # Input signal (length must be a power of 2)\n",
    "X = fft_radix2(x)\n",
    "\n",
    "print(\"FFT result:\")\n",
    "for i, val in enumerate(X):\n",
    "    print(f\"A[{i}] = {val}\")"
   ]
  },
  {
   "cell_type": "code",
   "execution_count": null,
   "id": "4e3a03fc-1552-425b-ac1d-bd612419dbc4",
   "metadata": {},
   "outputs": [],
   "source": []
  }
 ],
 "metadata": {
  "kernelspec": {
   "display_name": "custom_python_kernel",
   "language": "python",
   "name": "custom_python_kernel"
  },
  "language_info": {
   "codemirror_mode": {
    "name": "ipython",
    "version": 3
   },
   "file_extension": ".py",
   "mimetype": "text/x-python",
   "name": "python",
   "nbconvert_exporter": "python",
   "pygments_lexer": "ipython3",
   "version": "3.11.11"
  }
 },
 "nbformat": 4,
 "nbformat_minor": 5
}
