{
 "cells": [
  {
   "cell_type": "code",
   "execution_count": 7,
   "id": "8f5cf7ce-030a-4f63-adb0-ce0887a09c96",
   "metadata": {},
   "outputs": [
    {
     "data": {
      "text/plain": [
       "'C:\\\\Users\\\\Baron\\\\Desktop\\\\EE_258_Repo\\\\EE_258\\\\ML_PATH_EE258\\\\EE258_env\\\\EE-210'"
      ]
     },
     "execution_count": 7,
     "metadata": {},
     "output_type": "execute_result"
    }
   ],
   "source": [
    "pwd"
   ]
  },
  {
   "cell_type": "markdown",
   "id": "a5c9e7e3-0dd7-4415-8e8a-47a4050c83a2",
   "metadata": {},
   "source": [
    "### PFE Calculator"
   ]
  },
  {
   "cell_type": "code",
   "execution_count": 10,
   "id": "5c5debea-1064-4122-8ba1-6cbf38f8ccb3",
   "metadata": {},
   "outputs": [
    {
     "data": {
      "image/png": "[encoded data removed]",
      "text/latex": [
       "$\\displaystyle \\frac{1 + \\frac{1}{z} + \\frac{1}{z^{2}}}{1 + \\frac{0.166666666666667}{z} + \\frac{0.166666666666667}{z^{2}}}$"
      ],
      "text/plain": [
       "                   1   1                 \n",
       "               1 + ─ + ──                \n",
       "                   z    2                \n",
       "                       z                 \n",
       "─────────────────────────────────────────\n",
       "    0.166666666666667   0.166666666666667\n",
       "1 + ───────────────── + ─────────────────\n",
       "            z                   2        \n",
       "                               z         "
      ]
     },
     "execution_count": 10,
     "metadata": {},
     "output_type": "execute_result"
    }
   ],
   "source": [
    "import sympy as sp\n",
    "\n",
    "from prettytable import PrettyTable\n",
    "\n",
    "# Enable pretty printing\n",
    "sp.init_printing()\n",
    "\n",
    "\n",
    "# Define symbolic variables\n",
    "z = sp.Symbol('z')\n",
    "z_inv = sp.Symbol('z_inv')\n",
    "\n",
    "\n",
    "# Define H(z⁻¹) using plain Python fractions\n",
    "#H_zinv = (2 - (1/6) * z**(-1)) / ((1 - (1/2) * z**(-1)) * (1 - (1/3) * z**(-1)))\n",
    "# Define H(z⁻¹) using normal Python-style fractions\n",
    "#H_zinv = ((4/3) + (2/3) * z**(-1)) / ((1 - z**(-1)) * (1 + (1/2) * z**(-1)))\n",
    "\n",
    "#H_zinv = ((-2/3) * z**(-1)) / ((1 - (1/3) * z**(-1)) * (1 + (3/4) * z**(-1)))\n",
    "#H_zinv = (1+(-1) * z**(-2)) / ((1 - (1/2) * z**(-1)) * (1 + (2) * z**(-1)))\n",
    "\n",
    "H_zinv = (1 + z**-1 + z**-2) / (1 + (1/6)*z**-1 + (1/6)*z**-2)\n",
    "\n",
    "\n",
    "H_zinv"
   ]
  },
  {
   "cell_type": "code",
   "execution_count": 11,
   "id": "95f82e76-0512-4a62-9812-9d3e80ef4d93",
   "metadata": {},
   "outputs": [
    {
     "data": {
      "image/png": "[encoded data removed]",
      "text/latex": [
       "$\\displaystyle -6.0 + \\frac{5.0}{1.0 + \\frac{0.166666666666667}{z} + \\frac{0.166666666666667}{z^{2}}}$"
      ],
      "text/plain": [
       "                           5.0                    \n",
       "-6.0 + ───────────────────────────────────────────\n",
       "             0.166666666666667   0.166666666666667\n",
       "       1.0 + ───────────────── + ─────────────────\n",
       "                     z                   2        \n",
       "                                        z         "
      ]
     },
     "execution_count": 11,
     "metadata": {},
     "output_type": "execute_result"
    }
   ],
   "source": [
    "# Define variables\n",
    "z = sp.Symbol('z')\n",
    "u = sp.Symbol('u')  # u = z⁻¹\n",
    "\n",
    "# Original transfer function H(z⁻¹)\n",
    "\n",
    "# Substitute u = z⁻¹ to make it rational in u\n",
    "H_u = H_zinv.subs(1/z, u)\n",
    "\n",
    "# Perform partial fraction expansion in u\n",
    "H_u_pfe = sp.apart(H_u, u)\n",
    "\n",
    "# Substitute back u = 1/z to return to z⁻¹ form (optional)\n",
    "H_zinv_pfe = H_u_pfe.subs(u, 1/z)\n",
    "H_zinv_pfe*-1"
   ]
  },
  {
   "cell_type": "code",
   "execution_count": 17,
   "id": "31e7b78a-e0f5-4c6c-a460-1708adf90b06",
   "metadata": {},
   "outputs": [
    {
     "name": "stdout",
     "output_type": "stream",
     "text": [
      "Decimal: 4.242640687\n",
      "Fraction approximation: 2604625/613916 (≈ 4.242640686999525)\n"
     ]
    }
   ],
   "source": [
    "from fractions import Fraction\n",
    "\n",
    "def decimal_to_fraction(decimal_value, max_denominator=1000000):\n",
    "    \"\"\"\n",
    "    Approximate a decimal number with a fraction.\n",
    "\n",
    "    Args:\n",
    "        decimal_value (float or str): The decimal number to convert.\n",
    "        max_denominator (int): The maximum allowed denominator for the approximation.\n",
    "\n",
    "    Returns:\n",
    "        Fraction: The simplified fraction approximation.\n",
    "    \"\"\"\n",
    "    frac = Fraction(decimal_value).limit_denominator(max_denominator)\n",
    "    return frac\n",
    "\n",
    "# Example usage:\n",
    "decimal_number = 4.242640687\n",
    "fraction_approx = decimal_to_fraction(decimal_number)\n",
    "print(f\"Decimal: {decimal_number}\")\n",
    "print(f\"Fraction approximation: {fraction_approx} (≈ {float(fraction_approx)})\")"
   ]
  },
  {
   "cell_type": "code",
   "execution_count": null,
   "id": "89568855-137d-4b95-aaa3-863de8945f06",
   "metadata": {},
   "outputs": [],
   "source": []
  }
 ],
 "metadata": {
  "kernelspec": {
   "display_name": "custom_python_kernel",
   "language": "python",
   "name": "custom_python_kernel"
  },
  "language_info": {
   "codemirror_mode": {
    "name": "ipython",
    "version": 3
   },
   "file_extension": ".py",
   "mimetype": "text/x-python",
   "name": "python",
   "nbconvert_exporter": "python",
   "pygments_lexer": "ipython3",
   "version": "3.11.11"
  }
 },
 "nbformat": 4,
 "nbformat_minor": 5
}
